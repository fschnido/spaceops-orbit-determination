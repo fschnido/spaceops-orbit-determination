{
 "cells": [
  {
   "cell_type": "code",
   "execution_count": 1,
   "id": "2e082734",
   "metadata": {},
   "outputs": [],
   "source": [
    "from pathlib import Path"
   ]
  },
  {
   "cell_type": "code",
   "execution_count": 2,
   "id": "afb57ee7-116e-4a81-a2c2-e06b18265a72",
   "metadata": {},
   "outputs": [],
   "source": [
    "import sys\n",
    "import warnings\n",
    "\n",
    "import datetime as dt\n",
    "\n",
    "import numpy as np\n",
    "import matplotlib.pyplot as plt\n",
    "\n",
    "# Load the GMAT Python API\n",
    "# sys.path.append(f'{Path.home()}/Downloads/GMAT-src-R2020a/GMAT-R2020a/GMAT-R2020a-Linux-x64/api/')\n",
    "sys.path.append(f'C:/Work/Programme/GMAT_R2022a/GMAT/api/')\n",
    "from load_gmat import *\n",
    "\n",
    "from skyfield.api import EarthSatellite, load\n",
    "from sgp4.api import Satrec, WGS72\n",
    "from sgp4.model import wgs72, wgs84\n",
    "from sgp4.conveniences import jday_datetime, UTC, sat_epoch_datetime, dump_satrec\n",
    "\n",
    "import pandas as pd\n",
    "\n",
    "import coord_skyfield\n",
    "from coord_skyfield import ITRF2TEME, TEME2ITRF\n",
    "\n",
    "from src.tlefit_equinoctial_eph_fd import *\n"
   ]
  },
  {
   "attachments": {},
   "cell_type": "markdown",
   "id": "d820cb0a",
   "metadata": {},
   "source": [
    "## OPM Input\n",
    "If you have a pre or post-launch OPM from your launch provider, enter the epoch and state vector in the cell below. This script expects a UTC timestamp and a state vector in the rotating ITRF (ECEF) coordinate frame. This is usually what is provided, but if you have something else, you can usually do some extra work to get to ECEF.\n",
    "\n",
    "If you don't have an OPM or you're just experimenting, use the dummy OPM data we generated above.\n",
    "\n",
    "Since we're using python lists, you can enter multiple epochs and state vectors to represent multiple satellites."
   ]
  },
  {
   "cell_type": "code",
   "execution_count": 3,
   "id": "5b398658",
   "metadata": {},
   "outputs": [],
   "source": [
    "epochs = [\"31 May 2024 13:20:20.000\"]\n",
    "\n",
    "#states = [([-3173.91430404, -6203.94723041, 802.14005485], [-0.99114021, 1.42336564, 7.44539408])]\n",
    "#states = [([4425.943634402046, 1513.1108258432932, -5022.335898370971],[-4.576082632044403, -3.4947594109091738, -5.095486148173292])]\n",
    "\n",
    "states = [([2128.164444925197, 104.52700298680319, -6525.30577021665],[-6.3570346092839845, -3.734255833115094, -2.1393941403847384])]"
   ]
  },
  {
   "attachments": {},
   "cell_type": "markdown",
   "id": "cb966ced",
   "metadata": {},
   "source": [
    "Loop through OPM satellites and use GMAT to propagate the spacecraft forward by 3 days using a high precision orbit propagator (Special Perturbations) to obtain an ephemeris we can later use to  fit a TLE"
   ]
  },
  {
   "cell_type": "code",
   "execution_count": 4,
   "id": "3400f15d",
   "metadata": {},
   "outputs": [
    {
     "name": "stdout",
     "output_type": "stream",
     "text": [
      "0\n"
     ]
    }
   ],
   "source": [
    "for idx, (t, state) in enumerate(zip(epochs, states)):\n",
    "    print(idx)\n",
    "\n",
    "    r, v = state[0], state[1]\n",
    "\n",
    "    gmat.LoadScript(\"gmat/prelaunch_opm.script\")\n",
    "\n",
    "    sat = gmat.GetObject(\"Sat\")\n",
    "    sat.SetField(\"Epoch\", t)\n",
    "    sat.SetField(\"X\", r[0])\n",
    "    sat.SetField(\"Y\", r[1])\n",
    "    sat.SetField(\"Z\", r[2])\n",
    "    sat.SetField(\"VX\", v[0])\n",
    "    sat.SetField(\"VY\", v[1])\n",
    "    sat.SetField(\"VZ\", v[2])\n",
    "\n",
    "    # You will want to set appropriate values for drag and mass specific to your staellites\n",
    "    sat.SetField(\"DragArea\", 0.125) # m^2\n",
    "    sat.SetField(\"DryMass\", 22.5) # kg\n",
    "    \n",
    "    eph = gmat.GetObject(\"EphemerisFile1\")\n",
    "    eph.SetField(\"Filename\", f'/EphemerisFile_Sat{idx}.e')\n",
    "\n",
    "    gmat.RunScript()"
   ]
  },
  {
   "attachments": {},
   "cell_type": "markdown",
   "id": "bd7f92df",
   "metadata": {},
   "source": [
    "Read the GMAT ephemeris files and save them as feather files."
   ]
  },
  {
   "cell_type": "code",
   "execution_count": 5,
   "id": "0e684104",
   "metadata": {},
   "outputs": [],
   "source": [
    "for idx, t in enumerate(epochs):\n",
    "\n",
    "    df = pd.read_fwf(f'C:/Work/Programme/GMAT_R2022a/GMAT/output/EphemerisFile_Sat{idx}.e', widths=(21, 24, 24, 24, 24, 24, 24), names=('time', 'x', 'y', 'z', 'xdot', 'ydot', 'zdot'), skiprows=15, skipfooter=4)\n",
    "    df['timestamp'] = pd.Timestamp(epochs[idx], tz='UTC') + pd.to_timedelta(df.time, unit='s')\n",
    "    df.to_feather(f'sat{idx}.fth')\n"
   ]
  },
  {
   "attachments": {},
   "cell_type": "markdown",
   "id": "e230d48e",
   "metadata": {},
   "source": [
    "Loop over the satellites' ephemeris we generated from GMAT and use it to fit a TLE."
   ]
  },
  {
   "cell_type": "code",
   "execution_count": 6,
   "id": "f9b2b016-9a05-4346-8c0b-7beda379564b",
   "metadata": {},
   "outputs": [
    {
     "name": "stdout",
     "output_type": "stream",
     "text": [
      "Initial semi-major axis (a) = 6842.504 km\n",
      "COE elements (original) = [6842.503782710278, 0.0034490738841777367, 1.704301397836347, 5.17869936708566, 1.7430924525736007, 2.9616747057271646, 1e-06]\n",
      "Residuals at epoch time [ 1.46925710e+00  6.73826602e-01 -7.21732027e+00 -6.85287856e-03\n",
      "  1.35451938e-02  2.03071928e-04]\n",
      "Residual magnitudes at epoch time 7.39611, 0.0151814\n",
      "\n",
      "\n",
      "#################### ITERATION 1 ####################\n",
      "\n",
      "Condition number (A): 45906.459\n",
      "Condition number (ATWA_acc): 588971.7892091068\n",
      "Covariance a: 0.005 m\n",
      "dx  [ 1.32652377e+01 -2.04596710e-03 -1.05144525e-03  4.33928874e-03\n",
      "  1.20893014e-05 -1.00628104e-04  6.62155266e-03]\n",
      "COE elements = [6855.7690203716975, 0.0012378400406727619, 1.7042528183296013, 5.178625497998073, 2.051221361533707, 2.65795895459392, 0.0066225526609072485]\n",
      "EQN elements = (6855.7690203716975, 0.0007233880108566206, 0.0010044688905295408, 3.604620506946114, -1.0212057117347049, 0.513911907003667, 0.0066225526609072485)\n",
      "Residual (b) = [ 2.45658952e+03 -4.01405010e+03 -1.15571347e+03  7.06386726e-02\n",
      " -1.52722511e+00  5.18508539e+00]\n",
      "Residuals (b) r = 4.85e+03, v = 5.41\n",
      "\n",
      "Convergence test: 1.30618, sigma_new(1.15e+05) > sigma_old(5e+04)\n",
      "\n",
      "#################### ITERATION 2 ####################\n",
      "\n",
      "Condition number (A): 60372.797\n",
      "Condition number (ATWA_acc): 597734.4197500618\n",
      "Covariance a: 0.005 m\n",
      "dx  [-7.97113817e-01 -5.77213474e-04 -2.01091437e-04 -4.26220577e-03\n",
      "  6.42464271e-05 -3.11756305e-06 -6.13251938e-03]\n",
      "COE elements = [6854.971906555183, 0.0008165674062319065, 1.7042018492156887, 5.1786483255638345, 2.495352200020515, 2.2095430827717966, 0.0004900332843492941]\n",
      "EQN elements = (6854.971906555183, 0.00014617453734377974, 0.0008033774539733085, 3.600358301176559, -1.0211414653075632, 0.5139087894406175, 0.0004900332843492941)\n",
      "Residual (b) = [ 1.43255945e+02 -2.08872992e+02 -1.59649805e+02  6.28046972e-02\n",
      " -1.83646086e-01  2.72254509e-01]\n",
      "Residuals (b) r = 299, v = 0.334\n",
      "\n",
      "Convergence test: 0.96033, sigma_new(4.57e+03) < sigma_old(1.15e+05)\n",
      "\n",
      "#################### ITERATION 3 ####################\n",
      "\n",
      "Condition number (A): 52052.954\n",
      "Condition number (ATWA_acc): 587971.6781211502\n",
      "Covariance a: 0.005 m\n",
      "dx  [-1.30463762e-02 -9.89066997e-07  5.59936001e-06 -6.61284762e-05\n",
      "  1.28017944e-07  4.73704016e-07 -9.35933234e-05]\n",
      "COE elements = [6854.958860178936, 0.0008219016403252243, 1.7042019347008952, 5.178648746052661, 2.4977552782461485, 2.2070734555811304, 0.00039643996093723273]\n",
      "EQN elements = (6854.958860178936, 0.0001451854703472769, 0.0008089768139874803, 3.600292172700353, -1.0211413372896192, 0.513909263144633, 0.00039643996093723273)\n",
      "Residual (b) = [ 1.78094679e+00 -2.84987121e+00 -2.20005240e+00  1.07404360e-03\n",
      " -2.34603447e-03  3.36929954e-03]\n",
      "Residuals (b) r = 4.02, v = 0.00424\n",
      "\n",
      "Convergence test: 0.985098, sigma_new(68.2) < sigma_old(4.57e+03)\n",
      "\n",
      "#################### ITERATION 4 ####################\n",
      "\n",
      "Condition number (A): 51971.257\n",
      "Condition number (ATWA_acc): 587824.2236860985\n",
      "Covariance a: 0.005 m\n",
      "dx  [-5.40417041e-05 -1.50712731e-09  1.03041911e-09 -2.65871927e-07\n",
      " -2.06653382e-10 -2.01663855e-09 -5.51846462e-07]\n",
      "COE elements = [6854.958806137232, 0.0008219023883144482, 1.704201934074944, 5.178648744395621, 2.49775730623404, 2.207071163378352, 0.00039588811447499605]\n",
      "EQN elements = (6854.958806137232, 0.00014518396321996398, 0.0008089778444065932, 3.600291906828428, -1.0211413374962728, 0.5139092611279942, 0.00039588811447499605)\n",
      "Residual (b) = [-2.22331115e-01  3.25253832e-02  1.81091931e-01  1.83288096e-04\n",
      "  2.55852029e-04 -4.13872725e-04]\n",
      "Residuals (b) r = 0.289, v = 0.00052\n",
      "\n",
      "Convergence test: 0.589082, sigma_new(28) < sigma_old(68.2)\n",
      "\n",
      "Stopped due to residual convergence\n",
      "\n",
      "#################### SOLUTION IN 4 ITERATIONS ####################\n",
      "\n",
      "Solution 6854.958806137232 0.0008219 97.6436 296.7147 143.1110 126.4559 +3.9589e-04\n",
      "Original 6842.503782710278 0.0034491 97.6493 296.7176 99.8718 169.6915 +1.0000e-06\n",
      "Residuals (b) r = 0.289, v = 0.00052\n",
      "Stopped in 4 iterations\n",
      "Residual at epoch     7.396e+00 km 1.518e-02 km/s\n",
      "Residual at new epoch 1.205e+00 km 0.000e+00 km/s\n",
      "Residual at the end   2.886e-01 km 5.199e-04 km/s\n",
      "Epoch: 2024-05-31 13:24:33.079424+00:00\n",
      "\n",
      "1 99999U 1800100  24152.55871620  .00000000  00000-0  39589-3 0  9990\n",
      "2 99999  97.6436 296.7147 0008219 143.1110 126.4559 15.29662722    14\n",
      "\n",
      "\n"
     ]
    }
   ],
   "source": [
    "for idx in range(len(states)):\n",
    "\n",
    "    df = pd.read_feather(f'sat{idx}.fth')\n",
    "\n",
    "    # Convert state vectors from ECEF to TEME\n",
    "    t = df.timestamp\n",
    "    ephemeris = [((row['x'], row['y'], row['z']), (row['xdot'], row['ydot'], row['zdot'])) for idx, row in df.iterrows()]\n",
    "\n",
    "    ephemeris_teme = ITRF2TEME(t, ephemeris)\n",
    "    ephemeris = ephemeris_teme\n",
    "    \n",
    "    with warnings.catch_warnings():\n",
    "        warnings.simplefilter(\"ignore\")\n",
    "        t = np.array([_t.to_pydatetime() for _t in t])\n",
    "\n",
    "    # Run the fitter\n",
    "    last_obs = 4320\n",
    "    obs_stride = 1\n",
    "    epoch_obs = 0\n",
    "    lamda = 1e-3 + 1 # Interesting.The smaller number works, but diverges. This is better\n",
    "    rms_epsilon = 0.002\n",
    "    iterations, solve_sat, elements_coe, sigma, sigmas, dxs, bs, lamdas, b_epoch, b_new_epoch, b, P, A = \\\n",
    "    test_tle_fit_normalized_equinoctial(t, ephemeris, central_diff=True, last_obs=last_obs, obs_stride=obs_stride, epoch_obs=epoch_obs, lamda=False, rms_epsilon=rms_epsilon, debug=True)\n",
    "\n",
    "    # Optionally thin the observations\n",
    "    tt = t[::obs_stride]\n",
    "    tephemeris = ephemeris[::obs_stride]\n",
    "\n",
    "    if last_obs:\n",
    "        tt = tt[:last_obs]\n",
    "        tephemeris = tephemeris[:last_obs]\n",
    "\n",
    "    print(f'Epoch: {tt[epoch_obs]}\\n')\n",
    "    print('\\n'.join(exporter.export_tle(solve_sat.model)))\n",
    "    print('\\n')"
   ]
  },
  {
   "cell_type": "code",
   "execution_count": 7,
   "id": "7744e542",
   "metadata": {},
   "outputs": [
    {
     "name": "stdout",
     "output_type": "stream",
     "text": [
      "6854.958806137232\n",
      "0.0008219023883144482\n",
      "97.64357826052644\n",
      "296.7147166345921\n",
      "143.110951895176\n",
      "126.45586274660816\n"
     ]
    }
   ],
   "source": [
    "import math \n",
    "a, ecc, incl, raan, argp, mean_anomaly, bstar = elements_coe\n",
    "R2D = 180/math.pi\n",
    "\n",
    "print(a)\n",
    "print(ecc)\n",
    "print(incl*R2D)\n",
    "print(raan*R2D)\n",
    "print(argp*R2D)\n",
    "print(mean_anomaly*R2D)"
   ]
  },
  {
   "cell_type": "code",
   "execution_count": 8,
   "id": "ec5e1645",
   "metadata": {},
   "outputs": [
    {
     "data": {
      "text/plain": [
       "[array([ 1.32652377e+01, -2.04596710e-03, -1.05144525e-03,  4.33928874e-03,\n",
       "         1.20893014e-05, -1.00628104e-04,  6.62155266e-03]),\n",
       " array([-7.97113817e-01, -5.77213474e-04, -2.01091437e-04, -4.26220577e-03,\n",
       "         6.42464271e-05, -3.11756305e-06, -6.13251938e-03]),\n",
       " array([-1.30463762e-02, -9.89066997e-07,  5.59936001e-06, -6.61284762e-05,\n",
       "         1.28017944e-07,  4.73704016e-07, -9.35933234e-05]),\n",
       " array([-5.40417041e-05, -1.50712731e-09,  1.03041911e-09, -2.65871927e-07,\n",
       "        -2.06653382e-10, -2.01663855e-09, -5.51846462e-07])]"
      ]
     },
     "metadata": {},
     "output_type": "display_data"
    },
    {
     "data": {
      "text/plain": [
       "4"
      ]
     },
     "metadata": {},
     "output_type": "display_data"
    },
    {
     "data": {
      "text/plain": [
       "[115308.84182135249, 4574.285217876646, 68.16809434167043, 28.011527076124676]"
      ]
     },
     "metadata": {},
     "output_type": "display_data"
    },
    {
     "data": {
      "text/plain": [
       "[]"
      ]
     },
     "metadata": {},
     "output_type": "display_data"
    },
    {
     "data": {
      "text/plain": [
       "array([[-2.07357871e+02,  4.15812626e+02, -1.24001475e+01],\n",
       "       [ 6.76976354e-02,  1.83295395e-02, -5.10132205e-01]])"
      ]
     },
     "metadata": {},
     "output_type": "display_data"
    }
   ],
   "source": [
    "display(dxs)\n",
    "display(iterations)\n",
    "display(sigmas)\n",
    "display(lamdas)\n",
    "display(b)\n",
    "\n",
    "# iterations, solve_sat, elements_coe, sigma, sigmas, dxs, bs, lamdas, b_epoch, b_new_epoch, b, P, A"
   ]
  }
 ],
 "metadata": {
  "kernelspec": {
   "display_name": ".venv",
   "language": "python",
   "name": "python3"
  },
  "language_info": {
   "codemirror_mode": {
    "name": "ipython",
    "version": 3
   },
   "file_extension": ".py",
   "mimetype": "text/x-python",
   "name": "python",
   "nbconvert_exporter": "python",
   "pygments_lexer": "ipython3",
   "version": "3.9.13"
  }
 },
 "nbformat": 4,
 "nbformat_minor": 5
}
