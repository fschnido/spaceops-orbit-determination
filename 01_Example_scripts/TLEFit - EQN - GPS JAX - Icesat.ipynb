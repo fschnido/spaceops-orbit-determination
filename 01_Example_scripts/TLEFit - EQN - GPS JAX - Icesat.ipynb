{
 "cells": [
  {
   "cell_type": "code",
   "execution_count": 1,
   "id": "likely-hearing",
   "metadata": {},
   "outputs": [],
   "source": [
    "%config Completer.use_jedi = False"
   ]
  },
  {
   "cell_type": "code",
   "execution_count": 2,
   "id": "indirect-brighton",
   "metadata": {},
   "outputs": [],
   "source": [
    "import os\n",
    "import sys\n",
    "\n",
    "import datetime as dt\n",
    "\n",
    "import matplotlib.pyplot as plt\n",
    "import pandas as pd"
   ]
  },
  {
   "cell_type": "code",
   "execution_count": 3,
   "id": "a103c735",
   "metadata": {},
   "outputs": [],
   "source": [
    "import coord_skyfield\n",
    "from coord_skyfield import ITRF2TEME"
   ]
  },
  {
   "cell_type": "code",
   "execution_count": 4,
   "id": "successful-tobacco",
   "metadata": {},
   "outputs": [
    {
     "name": "stderr",
     "output_type": "stream",
     "text": [
      "WARNING:jax._src.lib.xla_bridge:No GPU/TPU found, falling back to CPU. (Set TF_CPP_MIN_LOG_LEVEL=0 and rerun for more info.)\n"
     ]
    }
   ],
   "source": [
    "from tlefit_equinoctial_eph_jax import *"
   ]
  },
  {
   "cell_type": "code",
   "execution_count": 5,
   "id": "38e3e17b-058f-4d23-9bef-1415c8a2c27b",
   "metadata": {},
   "outputs": [
    {
     "name": "stderr",
     "output_type": "stream",
     "text": [
      "/tmp/ipykernel_810010/3202393328.py:8: UserWarning: Discarding nonzero nanoseconds in conversion.\n",
      "  t = np.array([_t.to_pydatetime() for _t in t])\n"
     ]
    }
   ],
   "source": [
    "df = pd.read_feather('ephemeris/icesat.fth')\n",
    "\n",
    "t = df.timestamp\n",
    "ephemeris = [((row['x'], row['y'], row['z']), (row['xdot'], row['ydot'], row['zdot'])) for idx, row in df.iterrows()]\n",
    "\n",
    "ephemeris_teme = ITRF2TEME(t, ephemeris)\n",
    "ephemeris = ephemeris_teme\n",
    "t = np.array([_t.to_pydatetime() for _t in t])"
   ]
  },
  {
   "cell_type": "code",
   "execution_count": 7,
   "id": "persistent-command",
   "metadata": {
    "tags": []
   },
   "outputs": [
    {
     "name": "stdout",
     "output_type": "stream",
     "text": [
      "Initial semi-major axis (a) = 6964.748 km\n",
      "COE elements (original) = [6964.747920163459, 0.0008532659302083011, 1.6406707565495493, 3.510973090900842, 0.0219135748417416, 1.9295921006576968, 1e-06]\n",
      "Residuals at epoch time [ 2.17569220e+00  5.78270795e-01 -7.90739972e+00  1.39443640e-03\n",
      "  6.33258238e-04 -6.85567605e-04]\n",
      "Residual magnitudes at epoch time 8.22162, 0.00167794\n",
      "\n",
      "\n",
      "#################### ITERATION 1 ####################\n",
      "\n",
      "Condition number (A): 59841.869\n",
      "Condition number (ATWA_acc): 422254.8977344557\n",
      "Lambda:  0.1\n",
      "Residuals after/before 3.87e+09 < 2.43e+13\n",
      "Covariance a: 72.450 m\n",
      "dx  [ 1.01949011e+01  9.19345400e-04  2.33664027e-04 -4.32303781e-04\n",
      "  1.05859225e-04  2.96043495e-05 -8.86628191e-03]\n",
      "COE elements = [6974.942821297623, DeviceArray(0.00015959, dtype=float64), DeviceArray(1.64060953, dtype=float64), DeviceArray(3.510891, dtype=float64), DeviceArray(2.15973043, dtype=float64), DeviceArray(6.07461034, dtype=float64), -0.008865281910282049]\n",
      "EQN elements = (6974.942821297623, DeviceArray(0.00013057, dtype=float64), DeviceArray(-9.17587491e-05, dtype=float64), DeviceArray(5.46204646, dtype=float64), DeviceArray(-0.38708348, dtype=float64), DeviceArray(-1.00007055, dtype=float64), -0.008865281910282049)\n",
      "Residual (b) = [-2.07444778e+00 -5.31457441e-01  7.88840949e+00 -1.96212797e-03\n",
      " -9.23684329e-04 -7.43416182e-05]\n",
      "Residuals (b) r = 8.17, v = 0.00217\n",
      "\n",
      "Convergence test: 0.137989, sigma_new(5.69e+04) > sigma_old(5e+04)\n",
      "\n",
      "#################### ITERATION 2 ####################\n",
      "\n",
      "Condition number (A): 60020.643\n",
      "Condition number (ATWA_acc): 413155.09754840314\n",
      "Lambda:  0.01\n",
      "Residuals after/before 4.76e+06 < 3.87e+09\n",
      "Covariance a: 72.426 m\n",
      "dx  [-2.92568289e-01 -5.57404337e-05 -1.02288676e-04  1.05499469e-03\n",
      "  3.31205343e-06 -1.47800578e-05  8.80031118e-03]\n",
      "COE elements = [6974.65025300883, DeviceArray(0.00020798, dtype=float64), DeviceArray(1.64062124, dtype=float64), DeviceArray(3.51088315, dtype=float64), DeviceArray(1.56957001, dtype=float64), DeviceArray(0.38264831, dtype=float64), -6.49707344411183e-05]\n",
      "EQN elements = (6974.65025300883, DeviceArray(7.48320178e-05, dtype=float64), DeviceArray(-0.00019405, dtype=float64), DeviceArray(5.46310146, dtype=float64), DeviceArray(-0.38708017, dtype=float64), DeviceArray(-1.00008533, dtype=float64), -6.49707344411183e-05)\n",
      "Residual (b) = [ 7.73043360e+00  3.04998835e+00 -3.32370231e+00 -2.02696665e-03\n",
      " -1.10039862e-03 -8.48673209e-03]\n",
      "Residuals (b) r = 8.95, v = 0.00879\n",
      "\n",
      "Convergence test: 0.987374, sigma_new(718) < sigma_old(5.69e+04)\n",
      "\n",
      "#################### ITERATION 3 ####################\n",
      "\n",
      "Condition number (A): 60023.349\n",
      "Condition number (ATWA_acc): 413465.85353965044\n",
      "Lambda:  0.001\n",
      "Residuals after/before 4.74e+06 < 4.76e+06\n",
      "Covariance a: 72.619 m\n",
      "dx  [-7.14367990e-04 -9.17970308e-07 -2.72808433e-06  2.29360549e-06\n",
      " -2.13183912e-08 -1.92021658e-08  1.27149283e-05]\n",
      "COE elements = [6974.649538640841, DeviceArray(0.0002102, dtype=float64), DeviceArray(1.64062126, dtype=float64), DeviceArray(3.51088316, dtype=float64), DeviceArray(1.56082543, dtype=float64), DeviceArray(0.39139517, dtype=float64), -5.225580615813411e-05]\n",
      "EQN elements = (6974.649538640841, DeviceArray(7.39140475e-05, dtype=float64), DeviceArray(-0.00019678, dtype=float64), DeviceArray(5.46310375, dtype=float64), DeviceArray(-0.38708019, dtype=float64), DeviceArray(-1.00008535, dtype=float64), -5.225580615813411e-05)\n",
      "Residual (b) = [-4.96866686e-02  2.23562853e-01  7.59981115e-03 -1.51149259e-04\n",
      "  3.54063745e-04  3.25613007e-05]\n",
      "Residuals (b) r = 0.229, v = 0.000386\n",
      "\n",
      "Convergence test: 0.964945, sigma_new(25.2) < sigma_old(718)\n",
      "\n",
      "#################### ITERATION 4 ####################\n",
      "\n",
      "Condition number (A): 60023.537\n",
      "Condition number (ATWA_acc): 413467.9981819566\n",
      "Condition number (A): 60023.537\n",
      "Condition number (ATWA_acc): 413467.99818161654\n",
      "Condition number (A): 60023.537\n",
      "Condition number (ATWA_acc): 413467.9981769972\n",
      "Condition number (A): 60023.537\n",
      "Condition number (ATWA_acc): 413467.9981290292\n",
      "Condition number (A): 60023.537\n",
      "Condition number (ATWA_acc): 413467.99764662975\n",
      "Condition number (A): 60023.537\n",
      "Condition number (ATWA_acc): 413467.99282035785\n",
      "Condition number (A): 60023.537\n",
      "Condition number (ATWA_acc): 413467.94456519006\n",
      "Condition number (A): 60023.537\n",
      "Condition number (ATWA_acc): 413467.4620049294\n",
      "Lambda:  1000.0\n",
      "Residuals after/before 4.74e+06 < 4.74e+06\n",
      "Covariance a: 72.619 m\n",
      "dx  [ 6.13035509e-08  1.49626144e-11  1.29307851e-11 -3.71836202e-10\n",
      "  7.71387051e-12 -2.80516407e-12 -1.20500378e-09]\n",
      "COE elements = [6974.649538702144, DeviceArray(0.0002102, dtype=float64), DeviceArray(1.64062126, dtype=float64), DeviceArray(3.51088316, dtype=float64), DeviceArray(1.56082551, dtype=float64), DeviceArray(0.39139508, dtype=float64), -5.225701116191676e-05]\n",
      "EQN elements = (6974.649538702144, DeviceArray(7.39140625e-05, dtype=float64), DeviceArray(-0.00019678, dtype=float64), DeviceArray(5.46310375, dtype=float64), DeviceArray(-0.38708019, dtype=float64), DeviceArray(-1.00008535, dtype=float64), -5.225701116191676e-05)\n",
      "Residual (b) = [-9.11947384e-02  2.09273517e-01  3.39000627e-02 -1.52363607e-04\n",
      "  3.56369421e-04  7.00604441e-05]\n",
      "Residuals (b) r = 0.231, v = 0.000394\n",
      "\n",
      "Convergence test: 0.00188404, sigma_new(25.1) < sigma_old(25.2)\n",
      "\n",
      "Stopped due to residual convergence\n",
      "\n",
      "#################### SOLUTION IN 4 ITERATIONS ####################\n",
      "\n",
      "Solution 6974.649538702144 0.0002102 94.0007 201.1588 89.4287 22.4253 -5.2257e-05\n",
      "Original 6964.747920163459 0.0008533 94.0035 201.1639 1.2556 110.5575 +1.0000e-06\n",
      "Residuals (b) r = 0.231, v = 0.000394\n",
      "Stopped in 4 iterations\n",
      "Residual at epoch     8.222e+00 km 1.678e-03 km/s\n",
      "Residual at new epoch 2.538e-01 km 0.000e+00 km/s\n",
      "Residual at the end   2.308e-01 km 3.939e-04 km/s\n"
     ]
    }
   ],
   "source": [
    "last_obs = 2500\n",
    "obs_stride = 2\n",
    "lamda = 1e-3 * 0 + 1\n",
    "iterations, solve_sat, elements_coe, sigma, sigmas, dxs, bs, lamdas, b_epoch, b_new_epoch, b, P, A = \\\n",
    "    test_tle_fit_normalized_equinoctial(t, ephemeris, last_obs=last_obs, obs_stride=obs_stride, lamda=lamda, rms_epsilon=0.0001, debug=True)"
   ]
  },
  {
   "cell_type": "code",
   "execution_count": 8,
   "id": "bf710c8b",
   "metadata": {},
   "outputs": [],
   "source": [
    "# Split the data into in-spampe and out-of-sample\n",
    "\n",
    "# Optionally thin the observations\n",
    "t_is = tt = t[::obs_stride]\n",
    "eph_is = teph = ephemeris[::obs_stride]\n",
    "\n",
    "if last_obs:\n",
    "    t_os = t_is[last_obs:]\n",
    "    t_is = t_is[:last_obs]\n",
    "    eph_os = eph_is[last_obs:]\n",
    "    eph_is = eph_is[:last_obs]"
   ]
  },
  {
   "cell_type": "code",
   "execution_count": 27,
   "id": "f83dafda-e4e1-4425-a877-2f5d9ac73ba0",
   "metadata": {},
   "outputs": [
    {
     "name": "stdout",
     "output_type": "stream",
     "text": [
      "2003-02-21 14:38:46.999679+00:00\n"
     ]
    }
   ],
   "source": [
    "jd, jdf = solve_sat.model.jdsatepoch, solve_sat.model.jdsatepochF\n",
    "print(sat_epoch_datetime(solve_sat.model))"
   ]
  },
  {
   "cell_type": "code",
   "execution_count": 10,
   "id": "a67e566c-9e3a-4a79-bafd-354a98290077",
   "metadata": {},
   "outputs": [
    {
     "data": {
      "text/plain": [
       "('1 99999U 1800100  03052.61026620  .00000000  00000-0 -52257-4 0  9994',\n",
       " '2 99999  94.0007 201.1588 0002102  89.4287  22.4253 14.90456728    10')"
      ]
     },
     "execution_count": 10,
     "metadata": {},
     "output_type": "execute_result"
    }
   ],
   "source": [
    "exporter.export_tle(solve_sat.model)"
   ]
  },
  {
   "cell_type": "code",
   "execution_count": 12,
   "id": "separate-sleeping",
   "metadata": {},
   "outputs": [
    {
     "data": {
      "text/plain": [
       "[<matplotlib.lines.Line2D at 0x7f9b9c7ebcd0>]"
      ]
     },
     "execution_count": 12,
     "metadata": {},
     "output_type": "execute_result"
    },
    {
     "data": {
      "image/png": "[encoded data removed]",
      "text/plain": [
       "<Figure size 640x480 with 1 Axes>"
      ]
     },
     "metadata": {},
     "output_type": "display_data"
    }
   ],
   "source": [
    "plt.semilogy(range(len(sigmas)), sigmas)"
   ]
  },
  {
   "cell_type": "code",
   "execution_count": 11,
   "id": "soviet-defensive",
   "metadata": {},
   "outputs": [
    {
     "data": {
      "text/plain": [
       "[<matplotlib.lines.Line2D at 0x7fa9082a1c30>]"
      ]
     },
     "execution_count": 11,
     "metadata": {},
     "output_type": "execute_result"
    },
    {
     "data": {
      "image/png": "[encoded data removed]",
      "text/plain": [
       "<Figure size 640x480 with 1 Axes>"
      ]
     },
     "metadata": {},
     "output_type": "display_data"
    }
   ],
   "source": [
    "plt.semilogy(bs)"
   ]
  },
  {
   "cell_type": "code",
   "execution_count": null,
   "id": "4d697421-7793-4e32-b3e8-666f1e949908",
   "metadata": {},
   "outputs": [],
   "source": []
  },
  {
   "cell_type": "code",
   "execution_count": 12,
   "id": "43408e31-2415-4bd6-ba26-ceb0b1fe9f6b",
   "metadata": {},
   "outputs": [],
   "source": [
    "def solution_residuals(t, ephemeris, solve_sat):\n",
    "    \n",
    "    bs = []\n",
    "    \n",
    "    offset_idxs = range(len(t))\n",
    "    \n",
    "    for offset_idx in offset_idxs:\n",
    "\n",
    "        # Obs - Nom\n",
    "        jd, jdf = jday_datetime(t[offset_idx])\n",
    "        res = np.array(ephemeris[offset_idx]) - np.array(solve_sat.model.sgp4(jd, jdf)[1:])\n",
    "        \n",
    "        b = np.concatenate((res[0], res[1]))\n",
    "\n",
    "        #bs.append(np.linalg.norm(b.T @ W @ b))\n",
    "        bs.append(np.linalg.norm(b.T @ b))\n",
    "        \n",
    "    return np.array(bs)"
   ]
  },
  {
   "cell_type": "code",
   "execution_count": 13,
   "id": "014de72f-8599-4dfa-9581-5fa4d8d298af",
   "metadata": {},
   "outputs": [
    {
     "data": {
      "image/png": "[encoded data removed]",
      "text/plain": [
       "<Figure size 640x480 with 1 Axes>"
      ]
     },
     "metadata": {},
     "output_type": "display_data"
    }
   ],
   "source": [
    "plt.plot(solution_residuals(t_is, eph_is, solve_sat) * 1000, c='g')\n",
    "plt.plot(range(last_obs, len(tt)), solution_residuals(t_os, eph_os, solve_sat) * 1000, c='r')\n",
    "\n",
    "plt.xlabel('Observations')\n",
    "plt.ylabel('Residuals (m)')\n",
    "plt.grid()"
   ]
  },
  {
   "cell_type": "code",
   "execution_count": 14,
   "id": "cbfa9383-5927-4fe0-b10f-e6e68adb9a8c",
   "metadata": {},
   "outputs": [
    {
     "data": {
      "text/plain": [
       "[<matplotlib.lines.Line2D at 0x7fa9082febc0>]"
      ]
     },
     "execution_count": 14,
     "metadata": {},
     "output_type": "execute_result"
    },
    {
     "data": {
      "image/png": "[encoded data removed]",
      "text/plain": [
       "<Figure size 640x480 with 1 Axes>"
      ]
     },
     "metadata": {},
     "output_type": "display_data"
    }
   ],
   "source": [
    "plt.semilogy(solution_residuals(t_is, eph_is, solve_sat) * 1000, c='g')\n",
    "plt.semilogy(range(last_obs, len(tt)), solution_residuals(t_os, eph_os, solve_sat) * 1000, c='r')"
   ]
  },
  {
   "cell_type": "code",
   "execution_count": null,
   "id": "dcdcc86e-87b0-4977-b8f5-195b16f64dd5",
   "metadata": {},
   "outputs": [],
   "source": []
  },
  {
   "attachments": {},
   "cell_type": "markdown",
   "id": "f9d20823",
   "metadata": {},
   "source": [
    "## Find the distance to TLEs with the same launch and proximate epoch"
   ]
  },
  {
   "cell_type": "code",
   "execution_count": 15,
   "id": "a7a3aa4e",
   "metadata": {},
   "outputs": [],
   "source": [
    "import datetime as dt\n",
    "\n",
    "import json\n",
    "\n",
    "from sgp4.conveniences import sat_epoch_datetime, jday_datetime\n",
    "\n",
    "from spacetrack import SpaceTrackClient\n",
    "import spacetrack.operators as op\n",
    "\n",
    "st = SpaceTrackClient(os.environ['SPACETRACK_USER'], os.environ['SPACETRACK_PWD'])"
   ]
  },
  {
   "cell_type": "code",
   "execution_count": 16,
   "id": "cfea155f",
   "metadata": {},
   "outputs": [],
   "source": [
    "launch_objects = json.loads(st.gp(object_id=op.like('2003-002~~'), orderby='TLE_LINE1', format='json'))"
   ]
  },
  {
   "cell_type": "code",
   "execution_count": 17,
   "id": "c031073a",
   "metadata": {},
   "outputs": [],
   "source": [
    "tles = []\n",
    "\n",
    "sat_ids = [sat['NORAD_CAT_ID'] for sat in launch_objects]"
   ]
  },
  {
   "cell_type": "code",
   "execution_count": 18,
   "id": "5918816f",
   "metadata": {},
   "outputs": [],
   "source": [
    "sat_gps = json.loads(st.gp_history(norad_cat_id=','.join(sat_ids),  epoch=op.inclusive_range((sat_epoch_datetime(solve_sat.model) - dt.timedelta(days=1)).date(), (sat_epoch_datetime(solve_sat.model) + dt.timedelta(days=+2)).date()), orderby='TLE_LINE1', format='json'))"
   ]
  },
  {
   "cell_type": "code",
   "execution_count": 19,
   "id": "b276c8ed",
   "metadata": {},
   "outputs": [],
   "source": [
    "def solution_residuals(t, solve_sat, comp_sat):\n",
    "    \n",
    "    bs = []\n",
    "    \n",
    "    offset_idxs = range(len(t))\n",
    "    \n",
    "    for offset_idx in offset_idxs:\n",
    "\n",
    "        # Obs - Nom\n",
    "        jd, jdf = jday_datetime(t[offset_idx])\n",
    "        b = np.ravel(np.array(np.array(solve_sat.sgp4(jd, jdf)[1:] - np.array(comp_sat.sgp4(jd, jdf)[1:]))))[:3]\n",
    "\n",
    "        bs.append(b.T @ b)\n",
    "        \n",
    "    return np.array(bs)"
   ]
  },
  {
   "cell_type": "code",
   "execution_count": 20,
   "id": "df38cc26",
   "metadata": {},
   "outputs": [],
   "source": [
    "candidates = []\n",
    "\n",
    "for sat in sat_gps:\n",
    "    candidate_sat = EarthSatellite(sat['TLE_LINE1'], sat['TLE_LINE2'], sat['TLE_LINE0'], ts)\n",
    "\n",
    "    res = solution_residuals(t_is, solve_sat.model, candidate_sat.model)\n",
    "    res_epoch = np.sqrt(res[-1])\n",
    "    res = np.sqrt(np.mean(res))\n",
    "\n",
    "    candidates.append((sat[\"NORAD_CAT_ID\"], sat[\"OBJECT_ID\"], sat[\"EPOCH\"], sat[\"TLE_LINE0\"], sat[\"TLE_LINE1\"], sat[\"TLE_LINE2\"], res, res_epoch))"
   ]
  },
  {
   "cell_type": "code",
   "execution_count": 21,
   "id": "08bff3f5",
   "metadata": {},
   "outputs": [],
   "source": [
    "df_candidates = pd.DataFrame(candidates, columns=['norad_cat_id', 'object_id', 'epoch', 'tle_line0', 'tle_line1', 'tle_line2', 'residual', 'residual_epoch'])"
   ]
  },
  {
   "cell_type": "code",
   "execution_count": 22,
   "id": "dc90d850",
   "metadata": {},
   "outputs": [
    {
     "data": {
      "text/html": [
       "<div>\n",
       "<style scoped>\n",
       "    .dataframe tbody tr th:only-of-type {\n",
       "        vertical-align: middle;\n",
       "    }\n",
       "\n",
       "    .dataframe tbody tr th {\n",
       "        vertical-align: top;\n",
       "    }\n",
       "\n",
       "    .dataframe thead th {\n",
       "        text-align: right;\n",
       "    }\n",
       "</style>\n",
       "<table border=\"1\" class=\"dataframe\">\n",
       "  <thead>\n",
       "    <tr style=\"text-align: right;\">\n",
       "      <th></th>\n",
       "      <th>norad_cat_id</th>\n",
       "      <th>object_id</th>\n",
       "      <th>epoch</th>\n",
       "      <th>tle_line0</th>\n",
       "      <th>tle_line1</th>\n",
       "      <th>tle_line2</th>\n",
       "      <th>residual</th>\n",
       "      <th>residual_epoch</th>\n",
       "    </tr>\n",
       "  </thead>\n",
       "  <tbody>\n",
       "    <tr>\n",
       "      <th>4</th>\n",
       "      <td>27642</td>\n",
       "      <td>2003-002A</td>\n",
       "      <td>2003-02-21T22:12:10.555488</td>\n",
       "      <td>0 ICESAT</td>\n",
       "      <td>1 27642U 03002A   03052.92512217 +.00000334 +0...</td>\n",
       "      <td>2 27642 093.9974 201.3200 0002012 082.5177 277...</td>\n",
       "      <td>0.449453</td>\n",
       "      <td>0.481388</td>\n",
       "    </tr>\n",
       "    <tr>\n",
       "      <th>3</th>\n",
       "      <td>27642</td>\n",
       "      <td>2003-002A</td>\n",
       "      <td>2003-02-21T10:55:25.107744</td>\n",
       "      <td>0 ICESAT</td>\n",
       "      <td>1 27642U 03002A   03052.45515171  .00001751  0...</td>\n",
       "      <td>2 27642 093.9975 201.0818 0002009 083.8037 276...</td>\n",
       "      <td>0.491111</td>\n",
       "      <td>0.817656</td>\n",
       "    </tr>\n",
       "    <tr>\n",
       "      <th>5</th>\n",
       "      <td>27642</td>\n",
       "      <td>2003-002A</td>\n",
       "      <td>2003-02-22T11:05:36.259872</td>\n",
       "      <td>0 ICESAT</td>\n",
       "      <td>1 27642U 03002A   03053.46222523  .00000675  0...</td>\n",
       "      <td>2 27642 093.9973 201.5925 0001977 080.0368 280...</td>\n",
       "      <td>0.491159</td>\n",
       "      <td>0.508709</td>\n",
       "    </tr>\n",
       "    <tr>\n",
       "      <th>6</th>\n",
       "      <td>27642</td>\n",
       "      <td>2003-002A</td>\n",
       "      <td>2003-02-22T22:22:21.200447</td>\n",
       "      <td>0 ICESAT</td>\n",
       "      <td>1 27642U 03002A   03053.93218982 +.00000782 +0...</td>\n",
       "      <td>2 27642 093.9986 201.8315 0001994 086.8594 273...</td>\n",
       "      <td>0.531605</td>\n",
       "      <td>0.301978</td>\n",
       "    </tr>\n",
       "    <tr>\n",
       "      <th>2</th>\n",
       "      <td>27642</td>\n",
       "      <td>2003-002A</td>\n",
       "      <td>2003-02-21T10:55:25.021343</td>\n",
       "      <td>0 ICESAT</td>\n",
       "      <td>1 27642U 03002A   03052.45515071  .00000069  0...</td>\n",
       "      <td>2 27642 093.9989 201.0818 0002120 093.1553 266...</td>\n",
       "      <td>2.318564</td>\n",
       "      <td>4.382705</td>\n",
       "    </tr>\n",
       "    <tr>\n",
       "      <th>1</th>\n",
       "      <td>27642</td>\n",
       "      <td>2003-002A</td>\n",
       "      <td>2003-02-20T22:01:59.166623</td>\n",
       "      <td>0 ICESAT</td>\n",
       "      <td>1 27642U 03002A   03051.91804591 +.00000836 +0...</td>\n",
       "      <td>2 27642 093.9987 200.8086 0001693 075.4900 284...</td>\n",
       "      <td>4.443556</td>\n",
       "      <td>9.185387</td>\n",
       "    </tr>\n",
       "    <tr>\n",
       "      <th>0</th>\n",
       "      <td>27642</td>\n",
       "      <td>2003-002A</td>\n",
       "      <td>2003-02-20T10:45:14.378975</td>\n",
       "      <td>0 ICESAT</td>\n",
       "      <td>1 27642U 03002A   03051.44808309  .00001254  0...</td>\n",
       "      <td>2 27642 093.9987 200.5699 0002091 092.9221 267...</td>\n",
       "      <td>6.712633</td>\n",
       "      <td>12.526049</td>\n",
       "    </tr>\n",
       "    <tr>\n",
       "      <th>7</th>\n",
       "      <td>27643</td>\n",
       "      <td>2003-002B</td>\n",
       "      <td>2003-02-20T20:33:57.017087</td>\n",
       "      <td>0 CHIPSAT</td>\n",
       "      <td>1 27643U 03002B   03051.85690992  .00003345  0...</td>\n",
       "      <td>2 27643 094.0108 200.8645 0014256 102.5331 257...</td>\n",
       "      <td>4075.204171</td>\n",
       "      <td>2717.656748</td>\n",
       "    </tr>\n",
       "    <tr>\n",
       "      <th>8</th>\n",
       "      <td>27643</td>\n",
       "      <td>2003-002B</td>\n",
       "      <td>2003-02-20T22:10:24.127104</td>\n",
       "      <td>0 CHIPSAT</td>\n",
       "      <td>1 27643U 03002B   03051.92389036 +.00003321 +0...</td>\n",
       "      <td>2 27643 094.0108 200.8988 0014209 102.2272 258...</td>\n",
       "      <td>4075.418993</td>\n",
       "      <td>2717.932801</td>\n",
       "    </tr>\n",
       "    <tr>\n",
       "      <th>9</th>\n",
       "      <td>27643</td>\n",
       "      <td>2003-002B</td>\n",
       "      <td>2003-02-21T20:40:42.670272</td>\n",
       "      <td>0 CHIPSAT</td>\n",
       "      <td>1 27643U 03002B   03052.86160498  .00002930  0...</td>\n",
       "      <td>2 27643 094.0114 201.3792 0014474 100.7745 259...</td>\n",
       "      <td>4077.190646</td>\n",
       "      <td>2721.672338</td>\n",
       "    </tr>\n",
       "    <tr>\n",
       "      <th>10</th>\n",
       "      <td>27643</td>\n",
       "      <td>2003-002B</td>\n",
       "      <td>2003-02-21T22:17:09.764735</td>\n",
       "      <td>0 CHIPSAT</td>\n",
       "      <td>1 27643U 03002B   03052.92858524 +.00002875 +0...</td>\n",
       "      <td>2 27643 094.0114 201.4134 0014349 100.3282 259...</td>\n",
       "      <td>4077.575230</td>\n",
       "      <td>2722.118216</td>\n",
       "    </tr>\n",
       "    <tr>\n",
       "      <th>11</th>\n",
       "      <td>27643</td>\n",
       "      <td>2003-002B</td>\n",
       "      <td>2003-02-22T20:47:28.185216</td>\n",
       "      <td>0 CHIPSAT</td>\n",
       "      <td>1 27643U 03002B   03053.86629844  .00002525  0...</td>\n",
       "      <td>2 27643 094.0119 201.8938 0014331 097.2831 262...</td>\n",
       "      <td>4078.678934</td>\n",
       "      <td>2724.075062</td>\n",
       "    </tr>\n",
       "    <tr>\n",
       "      <th>12</th>\n",
       "      <td>27643</td>\n",
       "      <td>2003-002B</td>\n",
       "      <td>2003-02-22T22:23:55.258080</td>\n",
       "      <td>0 CHIPSAT</td>\n",
       "      <td>1 27643U 03002B   03053.93327845 +.00002480 +0...</td>\n",
       "      <td>2 27643 094.0119 201.9280 0014258 096.9517 263...</td>\n",
       "      <td>4078.874126</td>\n",
       "      <td>2724.307954</td>\n",
       "    </tr>\n",
       "    <tr>\n",
       "      <th>20</th>\n",
       "      <td>27645</td>\n",
       "      <td>2003-002D</td>\n",
       "      <td>2003-02-20T01:30:16.955136</td>\n",
       "      <td>0 DELTA 2 R/B</td>\n",
       "      <td>1 27645U 03002D   03051.06269624  .00336756  4...</td>\n",
       "      <td>2 27645 097.5309 230.1304 0145406 291.1089 067...</td>\n",
       "      <td>9137.625697</td>\n",
       "      <td>6894.729628</td>\n",
       "    </tr>\n",
       "    <tr>\n",
       "      <th>21</th>\n",
       "      <td>27645</td>\n",
       "      <td>2003-002D</td>\n",
       "      <td>2003-02-20T12:07:37.487999</td>\n",
       "      <td>0 DELTA 2 R/B</td>\n",
       "      <td>1 27645U 03002D   03051.50529500  .00333719  3...</td>\n",
       "      <td>2 27645 097.5309 230.6159 0144156 289.3694 069...</td>\n",
       "      <td>9138.048112</td>\n",
       "      <td>6883.316343</td>\n",
       "    </tr>\n",
       "    <tr>\n",
       "      <th>24</th>\n",
       "      <td>27645</td>\n",
       "      <td>2003-002D</td>\n",
       "      <td>2003-02-21T13:54:57.718944</td>\n",
       "      <td>0 DELTA 2 R/B</td>\n",
       "      <td>1 27645U 03002D   03052.57983471  .00340332  4...</td>\n",
       "      <td>2 27645 097.5263 231.7972 0142034 285.1852 073...</td>\n",
       "      <td>9138.128599</td>\n",
       "      <td>6878.314339</td>\n",
       "    </tr>\n",
       "    <tr>\n",
       "      <th>22</th>\n",
       "      <td>27645</td>\n",
       "      <td>2003-002D</td>\n",
       "      <td>2003-02-20T22:44:50.674271</td>\n",
       "      <td>0 DELTA 2 R/B</td>\n",
       "      <td>1 27645U 03002D   03051.94780873 +.00333901 +4...</td>\n",
       "      <td>2 27645 097.5308 231.1011 0143465 287.6686 070...</td>\n",
       "      <td>9138.178312</td>\n",
       "      <td>6879.957983</td>\n",
       "    </tr>\n",
       "    <tr>\n",
       "      <th>23</th>\n",
       "      <td>27645</td>\n",
       "      <td>2003-002D</td>\n",
       "      <td>2003-02-21T00:15:52.132319</td>\n",
       "      <td>0 DELTA 2 R/B</td>\n",
       "      <td>1 27645U 03002D   03052.01102005  .00332812  3...</td>\n",
       "      <td>2 27645 097.5309 231.1704 0143338 287.3942 071...</td>\n",
       "      <td>9138.218877</td>\n",
       "      <td>6878.633987</td>\n",
       "    </tr>\n",
       "    <tr>\n",
       "      <th>25</th>\n",
       "      <td>27645</td>\n",
       "      <td>2003-002D</td>\n",
       "      <td>2003-02-21T23:00:54.703008</td>\n",
       "      <td>0 DELTA 2 R/B</td>\n",
       "      <td>1 27645U 03002D   03052.95896647 +.00339560 +4...</td>\n",
       "      <td>2 27645 097.5265 232.2135 0141486 283.7548 074...</td>\n",
       "      <td>9138.329278</td>\n",
       "      <td>6877.542177</td>\n",
       "    </tr>\n",
       "    <tr>\n",
       "      <th>26</th>\n",
       "      <td>27645</td>\n",
       "      <td>2003-002D</td>\n",
       "      <td>2003-02-22T02:02:52.753920</td>\n",
       "      <td>0 DELTA 2 R/B</td>\n",
       "      <td>1 27645U 03002D   03053.08533280  .00338809  4...</td>\n",
       "      <td>2 27645 097.5266 232.3523 0141240 283.2678 075...</td>\n",
       "      <td>9138.422159</td>\n",
       "      <td>6877.413179</td>\n",
       "    </tr>\n",
       "  </tbody>\n",
       "</table>\n",
       "</div>"
      ],
      "text/plain": [
       "   norad_cat_id  object_id                       epoch      tle_line0  \\\n",
       "4         27642  2003-002A  2003-02-21T22:12:10.555488       0 ICESAT   \n",
       "3         27642  2003-002A  2003-02-21T10:55:25.107744       0 ICESAT   \n",
       "5         27642  2003-002A  2003-02-22T11:05:36.259872       0 ICESAT   \n",
       "6         27642  2003-002A  2003-02-22T22:22:21.200447       0 ICESAT   \n",
       "2         27642  2003-002A  2003-02-21T10:55:25.021343       0 ICESAT   \n",
       "1         27642  2003-002A  2003-02-20T22:01:59.166623       0 ICESAT   \n",
       "0         27642  2003-002A  2003-02-20T10:45:14.378975       0 ICESAT   \n",
       "7         27643  2003-002B  2003-02-20T20:33:57.017087      0 CHIPSAT   \n",
       "8         27643  2003-002B  2003-02-20T22:10:24.127104      0 CHIPSAT   \n",
       "9         27643  2003-002B  2003-02-21T20:40:42.670272      0 CHIPSAT   \n",
       "10        27643  2003-002B  2003-02-21T22:17:09.764735      0 CHIPSAT   \n",
       "11        27643  2003-002B  2003-02-22T20:47:28.185216      0 CHIPSAT   \n",
       "12        27643  2003-002B  2003-02-22T22:23:55.258080      0 CHIPSAT   \n",
       "20        27645  2003-002D  2003-02-20T01:30:16.955136  0 DELTA 2 R/B   \n",
       "21        27645  2003-002D  2003-02-20T12:07:37.487999  0 DELTA 2 R/B   \n",
       "24        27645  2003-002D  2003-02-21T13:54:57.718944  0 DELTA 2 R/B   \n",
       "22        27645  2003-002D  2003-02-20T22:44:50.674271  0 DELTA 2 R/B   \n",
       "23        27645  2003-002D  2003-02-21T00:15:52.132319  0 DELTA 2 R/B   \n",
       "25        27645  2003-002D  2003-02-21T23:00:54.703008  0 DELTA 2 R/B   \n",
       "26        27645  2003-002D  2003-02-22T02:02:52.753920  0 DELTA 2 R/B   \n",
       "\n",
       "                                            tle_line1  \\\n",
       "4   1 27642U 03002A   03052.92512217 +.00000334 +0...   \n",
       "3   1 27642U 03002A   03052.45515171  .00001751  0...   \n",
       "5   1 27642U 03002A   03053.46222523  .00000675  0...   \n",
       "6   1 27642U 03002A   03053.93218982 +.00000782 +0...   \n",
       "2   1 27642U 03002A   03052.45515071  .00000069  0...   \n",
       "1   1 27642U 03002A   03051.91804591 +.00000836 +0...   \n",
       "0   1 27642U 03002A   03051.44808309  .00001254  0...   \n",
       "7   1 27643U 03002B   03051.85690992  .00003345  0...   \n",
       "8   1 27643U 03002B   03051.92389036 +.00003321 +0...   \n",
       "9   1 27643U 03002B   03052.86160498  .00002930  0...   \n",
       "10  1 27643U 03002B   03052.92858524 +.00002875 +0...   \n",
       "11  1 27643U 03002B   03053.86629844  .00002525  0...   \n",
       "12  1 27643U 03002B   03053.93327845 +.00002480 +0...   \n",
       "20  1 27645U 03002D   03051.06269624  .00336756  4...   \n",
       "21  1 27645U 03002D   03051.50529500  .00333719  3...   \n",
       "24  1 27645U 03002D   03052.57983471  .00340332  4...   \n",
       "22  1 27645U 03002D   03051.94780873 +.00333901 +4...   \n",
       "23  1 27645U 03002D   03052.01102005  .00332812  3...   \n",
       "25  1 27645U 03002D   03052.95896647 +.00339560 +4...   \n",
       "26  1 27645U 03002D   03053.08533280  .00338809  4...   \n",
       "\n",
       "                                            tle_line2     residual  \\\n",
       "4   2 27642 093.9974 201.3200 0002012 082.5177 277...     0.449453   \n",
       "3   2 27642 093.9975 201.0818 0002009 083.8037 276...     0.491111   \n",
       "5   2 27642 093.9973 201.5925 0001977 080.0368 280...     0.491159   \n",
       "6   2 27642 093.9986 201.8315 0001994 086.8594 273...     0.531605   \n",
       "2   2 27642 093.9989 201.0818 0002120 093.1553 266...     2.318564   \n",
       "1   2 27642 093.9987 200.8086 0001693 075.4900 284...     4.443556   \n",
       "0   2 27642 093.9987 200.5699 0002091 092.9221 267...     6.712633   \n",
       "7   2 27643 094.0108 200.8645 0014256 102.5331 257...  4075.204171   \n",
       "8   2 27643 094.0108 200.8988 0014209 102.2272 258...  4075.418993   \n",
       "9   2 27643 094.0114 201.3792 0014474 100.7745 259...  4077.190646   \n",
       "10  2 27643 094.0114 201.4134 0014349 100.3282 259...  4077.575230   \n",
       "11  2 27643 094.0119 201.8938 0014331 097.2831 262...  4078.678934   \n",
       "12  2 27643 094.0119 201.9280 0014258 096.9517 263...  4078.874126   \n",
       "20  2 27645 097.5309 230.1304 0145406 291.1089 067...  9137.625697   \n",
       "21  2 27645 097.5309 230.6159 0144156 289.3694 069...  9138.048112   \n",
       "24  2 27645 097.5263 231.7972 0142034 285.1852 073...  9138.128599   \n",
       "22  2 27645 097.5308 231.1011 0143465 287.6686 070...  9138.178312   \n",
       "23  2 27645 097.5309 231.1704 0143338 287.3942 071...  9138.218877   \n",
       "25  2 27645 097.5265 232.2135 0141486 283.7548 074...  9138.329278   \n",
       "26  2 27645 097.5266 232.3523 0141240 283.2678 075...  9138.422159   \n",
       "\n",
       "    residual_epoch  \n",
       "4         0.481388  \n",
       "3         0.817656  \n",
       "5         0.508709  \n",
       "6         0.301978  \n",
       "2         4.382705  \n",
       "1         9.185387  \n",
       "0        12.526049  \n",
       "7      2717.656748  \n",
       "8      2717.932801  \n",
       "9      2721.672338  \n",
       "10     2722.118216  \n",
       "11     2724.075062  \n",
       "12     2724.307954  \n",
       "20     6894.729628  \n",
       "21     6883.316343  \n",
       "24     6878.314339  \n",
       "22     6879.957983  \n",
       "23     6878.633987  \n",
       "25     6877.542177  \n",
       "26     6877.413179  "
      ]
     },
     "execution_count": 22,
     "metadata": {},
     "output_type": "execute_result"
    }
   ],
   "source": [
    "df_candidates.sort_values('residual').head(20)"
   ]
  },
  {
   "cell_type": "code",
   "execution_count": 23,
   "id": "33b7ca72",
   "metadata": {},
   "outputs": [
    {
     "data": {
      "text/html": [
       "<div>\n",
       "<style scoped>\n",
       "    .dataframe tbody tr th:only-of-type {\n",
       "        vertical-align: middle;\n",
       "    }\n",
       "\n",
       "    .dataframe tbody tr th {\n",
       "        vertical-align: top;\n",
       "    }\n",
       "\n",
       "    .dataframe thead th {\n",
       "        text-align: right;\n",
       "    }\n",
       "</style>\n",
       "<table border=\"1\" class=\"dataframe\">\n",
       "  <thead>\n",
       "    <tr style=\"text-align: right;\">\n",
       "      <th></th>\n",
       "      <th>norad_cat_id</th>\n",
       "      <th>object_id</th>\n",
       "      <th>epoch</th>\n",
       "      <th>tle_line0</th>\n",
       "      <th>tle_line1</th>\n",
       "      <th>tle_line2</th>\n",
       "      <th>residual</th>\n",
       "      <th>residual_epoch</th>\n",
       "    </tr>\n",
       "  </thead>\n",
       "  <tbody>\n",
       "    <tr>\n",
       "      <th>4</th>\n",
       "      <td>27642</td>\n",
       "      <td>2003-002A</td>\n",
       "      <td>2003-02-21T22:12:10.555488</td>\n",
       "      <td>0 ICESAT</td>\n",
       "      <td>1 27642U 03002A   03052.92512217 +.00000334 +0...</td>\n",
       "      <td>2 27642 093.9974 201.3200 0002012 082.5177 277...</td>\n",
       "      <td>0.449453</td>\n",
       "      <td>0.481388</td>\n",
       "    </tr>\n",
       "    <tr>\n",
       "      <th>3</th>\n",
       "      <td>27642</td>\n",
       "      <td>2003-002A</td>\n",
       "      <td>2003-02-21T10:55:25.107744</td>\n",
       "      <td>0 ICESAT</td>\n",
       "      <td>1 27642U 03002A   03052.45515171  .00001751  0...</td>\n",
       "      <td>2 27642 093.9975 201.0818 0002009 083.8037 276...</td>\n",
       "      <td>0.491111</td>\n",
       "      <td>0.817656</td>\n",
       "    </tr>\n",
       "    <tr>\n",
       "      <th>5</th>\n",
       "      <td>27642</td>\n",
       "      <td>2003-002A</td>\n",
       "      <td>2003-02-22T11:05:36.259872</td>\n",
       "      <td>0 ICESAT</td>\n",
       "      <td>1 27642U 03002A   03053.46222523  .00000675  0...</td>\n",
       "      <td>2 27642 093.9973 201.5925 0001977 080.0368 280...</td>\n",
       "      <td>0.491159</td>\n",
       "      <td>0.508709</td>\n",
       "    </tr>\n",
       "    <tr>\n",
       "      <th>6</th>\n",
       "      <td>27642</td>\n",
       "      <td>2003-002A</td>\n",
       "      <td>2003-02-22T22:22:21.200447</td>\n",
       "      <td>0 ICESAT</td>\n",
       "      <td>1 27642U 03002A   03053.93218982 +.00000782 +0...</td>\n",
       "      <td>2 27642 093.9986 201.8315 0001994 086.8594 273...</td>\n",
       "      <td>0.531605</td>\n",
       "      <td>0.301978</td>\n",
       "    </tr>\n",
       "    <tr>\n",
       "      <th>2</th>\n",
       "      <td>27642</td>\n",
       "      <td>2003-002A</td>\n",
       "      <td>2003-02-21T10:55:25.021343</td>\n",
       "      <td>0 ICESAT</td>\n",
       "      <td>1 27642U 03002A   03052.45515071  .00000069  0...</td>\n",
       "      <td>2 27642 093.9989 201.0818 0002120 093.1553 266...</td>\n",
       "      <td>2.318564</td>\n",
       "      <td>4.382705</td>\n",
       "    </tr>\n",
       "    <tr>\n",
       "      <th>1</th>\n",
       "      <td>27642</td>\n",
       "      <td>2003-002A</td>\n",
       "      <td>2003-02-20T22:01:59.166623</td>\n",
       "      <td>0 ICESAT</td>\n",
       "      <td>1 27642U 03002A   03051.91804591 +.00000836 +0...</td>\n",
       "      <td>2 27642 093.9987 200.8086 0001693 075.4900 284...</td>\n",
       "      <td>4.443556</td>\n",
       "      <td>9.185387</td>\n",
       "    </tr>\n",
       "    <tr>\n",
       "      <th>0</th>\n",
       "      <td>27642</td>\n",
       "      <td>2003-002A</td>\n",
       "      <td>2003-02-20T10:45:14.378975</td>\n",
       "      <td>0 ICESAT</td>\n",
       "      <td>1 27642U 03002A   03051.44808309  .00001254  0...</td>\n",
       "      <td>2 27642 093.9987 200.5699 0002091 092.9221 267...</td>\n",
       "      <td>6.712633</td>\n",
       "      <td>12.526049</td>\n",
       "    </tr>\n",
       "  </tbody>\n",
       "</table>\n",
       "</div>"
      ],
      "text/plain": [
       "  norad_cat_id  object_id                       epoch tle_line0  \\\n",
       "4        27642  2003-002A  2003-02-21T22:12:10.555488  0 ICESAT   \n",
       "3        27642  2003-002A  2003-02-21T10:55:25.107744  0 ICESAT   \n",
       "5        27642  2003-002A  2003-02-22T11:05:36.259872  0 ICESAT   \n",
       "6        27642  2003-002A  2003-02-22T22:22:21.200447  0 ICESAT   \n",
       "2        27642  2003-002A  2003-02-21T10:55:25.021343  0 ICESAT   \n",
       "1        27642  2003-002A  2003-02-20T22:01:59.166623  0 ICESAT   \n",
       "0        27642  2003-002A  2003-02-20T10:45:14.378975  0 ICESAT   \n",
       "\n",
       "                                           tle_line1  \\\n",
       "4  1 27642U 03002A   03052.92512217 +.00000334 +0...   \n",
       "3  1 27642U 03002A   03052.45515171  .00001751  0...   \n",
       "5  1 27642U 03002A   03053.46222523  .00000675  0...   \n",
       "6  1 27642U 03002A   03053.93218982 +.00000782 +0...   \n",
       "2  1 27642U 03002A   03052.45515071  .00000069  0...   \n",
       "1  1 27642U 03002A   03051.91804591 +.00000836 +0...   \n",
       "0  1 27642U 03002A   03051.44808309  .00001254  0...   \n",
       "\n",
       "                                           tle_line2  residual  residual_epoch  \n",
       "4  2 27642 093.9974 201.3200 0002012 082.5177 277...  0.449453        0.481388  \n",
       "3  2 27642 093.9975 201.0818 0002009 083.8037 276...  0.491111        0.817656  \n",
       "5  2 27642 093.9973 201.5925 0001977 080.0368 280...  0.491159        0.508709  \n",
       "6  2 27642 093.9986 201.8315 0001994 086.8594 273...  0.531605        0.301978  \n",
       "2  2 27642 093.9989 201.0818 0002120 093.1553 266...  2.318564        4.382705  \n",
       "1  2 27642 093.9987 200.8086 0001693 075.4900 284...  4.443556        9.185387  \n",
       "0  2 27642 093.9987 200.5699 0002091 092.9221 267...  6.712633       12.526049  "
      ]
     },
     "execution_count": 23,
     "metadata": {},
     "output_type": "execute_result"
    }
   ],
   "source": [
    "df_candidates[df_candidates['object_id'] == '2003-002A'].sort_values('residual')"
   ]
  },
  {
   "cell_type": "code",
   "execution_count": 28,
   "id": "26605381",
   "metadata": {},
   "outputs": [
    {
     "data": {
      "text/plain": [
       "(0,\n",
       " (2261.219320997998, 1358.9466664175704, 6448.0213138740355),\n",
       " (6.61651017471882, 2.3507524816299354, -2.8093566278164706))"
      ]
     },
     "execution_count": 28,
     "metadata": {},
     "output_type": "execute_result"
    }
   ],
   "source": [
    "sat = sat_gps[6]\n",
    "candidate_sat = EarthSatellite(sat['TLE_LINE1'], sat['TLE_LINE2'], sat['TLE_LINE0'], ts)\n",
    "candidate_sat.model.sgp4(jd, jdf)"
   ]
  },
  {
   "cell_type": "code",
   "execution_count": 29,
   "id": "444ccbc4",
   "metadata": {},
   "outputs": [
    {
     "data": {
      "text/plain": [
       "array([-0.29628207,  0.03531816,  0.04648014])"
      ]
     },
     "execution_count": 29,
     "metadata": {},
     "output_type": "execute_result"
    }
   ],
   "source": [
    "(np.ravel(solve_sat.model.sgp4(jd, jdf)[1:]) - np.ravel(candidate_sat.model.sgp4(jd, jdf)[1:]))[:3]"
   ]
  },
  {
   "cell_type": "code",
   "execution_count": 30,
   "id": "b5321b55",
   "metadata": {},
   "outputs": [
    {
     "data": {
      "text/plain": [
       "(0,\n",
       " (2260.923038925471, 1358.9819845820527, 6448.067794014456),\n",
       " (6.616808290131571, 2.3505005614877947, -2.809007207318306))"
      ]
     },
     "execution_count": 30,
     "metadata": {},
     "output_type": "execute_result"
    }
   ],
   "source": [
    "solve_sat.model.sgp4_tsince(0)"
   ]
  },
  {
   "cell_type": "code",
   "execution_count": 31,
   "id": "8956fb7c",
   "metadata": {},
   "outputs": [
    {
     "data": {
      "text/plain": [
       "(0,\n",
       " (2261.2171970966665, 1358.9459118258458, 6448.0222156774935),\n",
       " (6.616511026517783, 2.3507529935451235, -2.8093541922207974))"
      ]
     },
     "execution_count": 31,
     "metadata": {},
     "output_type": "execute_result"
    }
   ],
   "source": [
    "candidate_sat.model.sgp4_tsince((sat_epoch_datetime(solve_sat.model) - sat_epoch_datetime(candidate_sat.model)).total_seconds() / 60)"
   ]
  },
  {
   "cell_type": "code",
   "execution_count": 32,
   "id": "4546ac6b",
   "metadata": {},
   "outputs": [
    {
     "name": "stdout",
     "output_type": "stream",
     "text": [
      "2003-02-21 14:38:46.999679+00:00 2003-02-22 22:22:21.200448+00:00\n"
     ]
    },
    {
     "data": {
      "text/plain": [
       "-114214.200769"
      ]
     },
     "execution_count": 32,
     "metadata": {},
     "output_type": "execute_result"
    }
   ],
   "source": [
    "print(sat_epoch_datetime(solve_sat.model), sat_epoch_datetime(candidate_sat.model))\n",
    "(sat_epoch_datetime(solve_sat.model) - sat_epoch_datetime(candidate_sat.model)).total_seconds()"
   ]
  },
  {
   "cell_type": "code",
   "execution_count": 33,
   "id": "84f6ffad",
   "metadata": {},
   "outputs": [
    {
     "data": {
      "text/plain": [
       "((array([6323.75444035, 2457.64159476, 1620.790872  ]),\n",
       "  array([ 1.83967051,  0.1336331 , -7.33335782])),\n",
       " datetime.datetime(2003, 2, 19, 20, 59, 47, tzinfo=<UTC>))"
      ]
     },
     "execution_count": 33,
     "metadata": {},
     "output_type": "execute_result"
    }
   ],
   "source": [
    "eph_is[0], t_is[0]"
   ]
  },
  {
   "cell_type": "code",
   "execution_count": 34,
   "id": "2e80597d",
   "metadata": {},
   "outputs": [
    {
     "data": {
      "text/plain": [
       "(0,\n",
       " (6323.681277340811, 2457.63594728703, 1620.725171072416),\n",
       " (1.8395344991665756, 0.1336229347932113, -7.33348417411234))"
      ]
     },
     "execution_count": 34,
     "metadata": {},
     "output_type": "execute_result"
    }
   ],
   "source": [
    "candidate_sat.model.sgp4(*jday_datetime(t_is[0]))"
   ]
  },
  {
   "cell_type": "code",
   "execution_count": 35,
   "id": "0d9e8ca3",
   "metadata": {},
   "outputs": [
    {
     "data": {
      "text/plain": [
       "0.09849533567316587"
      ]
     },
     "execution_count": 35,
     "metadata": {},
     "output_type": "execute_result"
    }
   ],
   "source": [
    "np.linalg.norm(np.ravel(eph_is[0])[:3] - np.ravel(candidate_sat.model.sgp4(*jday_datetime(t_is[0]))[1:])[:3])"
   ]
  },
  {
   "cell_type": "code",
   "execution_count": null,
   "id": "e1440dc6",
   "metadata": {},
   "outputs": [],
   "source": []
  },
  {
   "cell_type": "markdown",
   "id": "ce81ed56-c64b-4c88-a185-b862d3607c6e",
   "metadata": {},
   "source": [
    "## Calculate new TLE at same epoch as Reference / Truth TLE\n",
    "\n",
    "* Grab the the epoch from the reference (truth) TLE\n",
    "* Fit all ephemeris so epoch is in the sweet spot of the bathtub\n",
    "    * This is probably bullshit, since we wouldn't have the future ephemeris yet\n",
    "* Calculate the predicted state vector at the reference epoch using the fitted model\n",
    "* add the predicted state vector to our ephemeris\n",
    "* Re-fit up to the predicted state vector to get the mean elements for the reference epoch\n",
    "* Compare fitted TLE to reference TLE\n",
    "\n",
    "### Notes\n",
    "* Probably better to interpolate ephemeris or use EKF to reference epoch"
   ]
  },
  {
   "cell_type": "code",
   "execution_count": 40,
   "id": "13ca5515-3de9-43c3-a1a0-7bff462aecc0",
   "metadata": {},
   "outputs": [],
   "source": [
    "ref_tle = candidate_sat"
   ]
  },
  {
   "cell_type": "code",
   "execution_count": 41,
   "id": "fbf1cfe4-0c37-43bd-b9f6-c3e88f86a2ef",
   "metadata": {},
   "outputs": [
    {
     "data": {
      "text/plain": [
       "datetime.datetime(2003, 2, 22, 22, 22, 21, 200448, tzinfo=UTC)"
      ]
     },
     "execution_count": 41,
     "metadata": {},
     "output_type": "execute_result"
    }
   ],
   "source": [
    "sat_epoch_datetime(ref_tle.model)"
   ]
  },
  {
   "cell_type": "code",
   "execution_count": 44,
   "id": "1c3e0bfa-3b9b-4c70-8731-aa165c2ed27d",
   "metadata": {},
   "outputs": [],
   "source": [
    "ajd, ajdf = jday_datetime(sat_epoch_datetime(ref_tle.model))"
   ]
  },
  {
   "cell_type": "code",
   "execution_count": 45,
   "id": "1aab5431-18bf-418b-8a5e-48243d50ab57",
   "metadata": {},
   "outputs": [],
   "source": [
    "# We'll do the thinning outside so we can preserve the new epoch\n",
    "\n",
    "if obs_stride:\n",
    "    tt = t[::obs_stride]\n",
    "    et = ephemeris[::obs_stride]\n",
    "\n",
    "if last_obs:\n",
    "    tt = tt[:last_obs]\n",
    "    et = et[:last_obs]\n",
    "\n",
    "aligned_epoch_obs = np.searchsorted(tt, sat_epoch_datetime(ref_tle.model))\n",
    "# ii = np.searchsorted(t, sat_epoch_datetime(ref_tle.model))\n",
    "tt = np.insert(t, aligned_epoch_obs, sat_epoch_datetime(ref_tle.model))\n",
    "et = ephemeris[:aligned_epoch_obs] + [tuple(np.array(x) for x in ref_tle.model.sgp4(ajd, ajdf)[1:])] + ephemeris[aligned_epoch_obs:] "
   ]
  },
  {
   "cell_type": "code",
   "execution_count": 46,
   "id": "1a59ceca",
   "metadata": {},
   "outputs": [
    {
     "data": {
      "text/plain": [
       "datetime.datetime(2003, 2, 22, 22, 22, 21, 200448, tzinfo=UTC)"
      ]
     },
     "execution_count": 46,
     "metadata": {},
     "output_type": "execute_result"
    }
   ],
   "source": [
    "sat_epoch_datetime(ref_tle.model)"
   ]
  },
  {
   "cell_type": "code",
   "execution_count": 47,
   "id": "a424100d",
   "metadata": {},
   "outputs": [
    {
     "data": {
      "text/plain": [
       "datetime.datetime(2003, 2, 22, 22, 22, 21, 200448, tzinfo=UTC)"
      ]
     },
     "execution_count": 47,
     "metadata": {},
     "output_type": "execute_result"
    }
   ],
   "source": [
    "tt[aligned_epoch_obs]"
   ]
  },
  {
   "cell_type": "code",
   "execution_count": 48,
   "id": "0e62fca3-46fc-4aae-88a6-e62373d1c5d7",
   "metadata": {},
   "outputs": [],
   "source": [
    "iterations, aligned_solve_sat, elements_coe, sigma, sigmas, dxs, bs, lamdas, b_epoch, b_new_epoch, b, P, A = test_tle_fit_normalized_equinoctial(tt, et, last_obs=None, obs_stride=None, epoch_obs=aligned_epoch_obs, lamda=1e-3, rms_epsilon=0.0001, debug=False)"
   ]
  },
  {
   "cell_type": "code",
   "execution_count": 49,
   "id": "88224b20-67ca-4904-8b83-3e3299c44146",
   "metadata": {},
   "outputs": [
    {
     "data": {
      "text/plain": [
       "('1 99999U 03002A   03053.93218982  .00000000  00000-0  61958-4 0  9996',\n",
       " '2 99999  94.0006 201.8297 0002077  85.6245 274.5221 14.90460542    10')"
      ]
     },
     "execution_count": 49,
     "metadata": {},
     "output_type": "execute_result"
    }
   ],
   "source": [
    "aligned_solve_sat.model.intldesg = ref_tle.model.intldesg\n",
    "# aligned_solve_sat.model.satnum = ref_tle.model.satnum # FIXME: assign this in satrec at creation\n",
    "aligned_solve_sat.model.classification = ref_tle.model.classification\n",
    "# aligned_solve_sat.model.ndot = ref_tle.model.ndot # Useless, but pretty\n",
    "# aligned_solve_sat.model.nddot = ref_tle.model.nddot# Useless, but pretty\n",
    "\n",
    "exporter.export_tle(aligned_solve_sat.model)"
   ]
  },
  {
   "cell_type": "code",
   "execution_count": 50,
   "id": "0512d433-60d7-4de9-945a-b498f449c894",
   "metadata": {},
   "outputs": [
    {
     "data": {
      "text/plain": [
       "('1 27642U 03002A   03053.93218982  .00000782  00000-0  81529-4 0  9995',\n",
       " '2 27642  93.9986 201.8315 0001994  86.8594 273.2860 14.90460451  6097')"
      ]
     },
     "execution_count": 50,
     "metadata": {},
     "output_type": "execute_result"
    }
   ],
   "source": [
    "exporter.export_tle(ref_tle.model)"
   ]
  },
  {
   "cell_type": "code",
   "execution_count": 51,
   "id": "c74616e7-21b8-4f7e-b9d2-fe813bfcab9d",
   "metadata": {},
   "outputs": [
    {
     "data": {
      "text/plain": [
       "Text(0, 0.5, 'Position Residual (m)')"
      ]
     },
     "execution_count": 51,
     "metadata": {},
     "output_type": "execute_result"
    },
    {
     "data": {
      "image/png": "[encoded data removed]",
      "text/plain": [
       "<Figure size 640x480 with 1 Axes>"
      ]
     },
     "metadata": {},
     "output_type": "display_data"
    }
   ],
   "source": [
    "plt.plot(np.sqrt(solution_residuals(t, aligned_solve_sat.model, ref_tle.model)) * 1000)\n",
    "plt.title(\"Solution vs. Candidate NORAD Object Residuals\")\n",
    "plt.xlabel(\"Observation number\")\n",
    "plt.ylabel(\"Position Residual (m)\")"
   ]
  },
  {
   "cell_type": "code",
   "execution_count": null,
   "id": "9be51baa",
   "metadata": {},
   "outputs": [],
   "source": []
  },
  {
   "cell_type": "code",
   "execution_count": 38,
   "id": "79d46851-d42a-4254-9e7b-51a6ee5ab9e4",
   "metadata": {},
   "outputs": [
    {
     "data": {
      "text/plain": [
       "(3, 53.93218982)"
      ]
     },
     "execution_count": 38,
     "metadata": {},
     "output_type": "execute_result"
    }
   ],
   "source": [
    "ref_tle.model.epochyr, ref_tle.model.epochdays"
   ]
  },
  {
   "cell_type": "code",
   "execution_count": null,
   "id": "c74616e7-21b8-4f7e-b9d2-fe813bfcab9d",
   "metadata": {},
   "outputs": [],
   "source": []
  }
 ],
 "metadata": {
  "kernelspec": {
   "display_name": ".venv",
   "language": "python",
   "name": "python3"
  },
  "language_info": {
   "codemirror_mode": {
    "name": "ipython",
    "version": 3
   },
   "file_extension": ".py",
   "mimetype": "text/x-python",
   "name": "python",
   "nbconvert_exporter": "python",
   "pygments_lexer": "ipython3",
   "version": "3.10.6 (main, Nov 14 2022, 16:10:14) [GCC 11.3.0]"
  },
  "vscode": {
   "interpreter": {
    "hash": "422d96f55d2b279cc3694c0d7101cd7135f83d32ba2b51a1c4e4fd4874965f43"
   }
  }
 },
 "nbformat": 4,
 "nbformat_minor": 5
}
