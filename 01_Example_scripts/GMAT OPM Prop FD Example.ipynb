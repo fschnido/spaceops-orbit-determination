{
 "cells": [
  {
   "cell_type": "code",
   "execution_count": 1,
   "id": "2e082734",
   "metadata": {},
   "outputs": [],
   "source": [
    "from pathlib import Path"
   ]
  },
  {
   "cell_type": "code",
   "execution_count": 2,
   "id": "afb57ee7-116e-4a81-a2c2-e06b18265a72",
   "metadata": {},
   "outputs": [],
   "source": [
    "import sys\n",
    "import warnings\n",
    "\n",
    "import datetime as dt\n",
    "\n",
    "import numpy as np\n",
    "import matplotlib.pyplot as plt\n",
    "\n",
    "# Load the GMAT Python API\n",
    "sys.path.append(f'{Path.home()}/Downloads/GMAT-src-R2020a/GMAT-R2020a/GMAT-R2020a-Linux-x64/api/')\n",
    "from load_gmat import *\n",
    "\n",
    "from skyfield.api import EarthSatellite, load\n",
    "from sgp4.api import Satrec, WGS72\n",
    "from sgp4.model import wgs72, wgs84\n",
    "from sgp4.conveniences import jday_datetime, UTC, sat_epoch_datetime, dump_satrec\n",
    "\n",
    "import pandas as pd\n",
    "\n",
    "import coord_skyfield\n",
    "from coord_skyfield import ITRF2TEME, TEME2ITRF\n",
    "\n",
    "from tlefit_equinoctial_eph_fd import *\n"
   ]
  },
  {
   "attachments": {},
   "cell_type": "markdown",
   "id": "acc1bfb6",
   "metadata": {},
   "source": [
    "## Mock up an example OPM\n",
    "This block of code will take an existing satellite from a TLE, propagate it 100 minutes from its epoch, and print the osculating orbit state vector (with some random noise added) in the ITRF (ECEF) coordinate frame. We also print the epoch for that state. If you already have an OPM from your launch provider, you can skip this step."
   ]
  },
  {
   "cell_type": "code",
   "execution_count": 3,
   "id": "68db91ff",
   "metadata": {},
   "outputs": [],
   "source": [
    "# We'll use an existing satellite and fudge it a bit to fake a pre or post-launch OPM from a launch provider\n",
    "\n",
    "ts = load.timescale()\n",
    "\n",
    "line1 = '1 40019U 14033K   21064.48089419  .00000027  00000-0  13123-4 0  9994'\n",
    "line2 = '2 40019  97.7274 245.3630 0083155 314.3836  45.0579 14.67086574359033'\n",
    "satellite = EarthSatellite(line1, line2, 'APRIZESAT 10', ts)\n",
    "\n",
    "# Propagate TLE 100 minutes from epoch\n",
    "err, r, v = satellite.model.sgp4_tsince(100) # Propagate 100 minutes from epoch, just to make it spicy\n",
    "\n",
    "np.random.seed(42)\n",
    "\n",
    "# Add some random offsets\n",
    "r += np.random.randn(3) * 10 / 1000\n",
    "v += np.random.randn(3) * 0.001 / 1000\n",
    "\n",
    "# Update the epoch\n",
    "epoch_dt = sat_epoch_datetime(satellite.model) + dt.timedelta(minutes=100)\n",
    "epoch = epoch_dt.strftime('%d %b %Y %H:%M:%S.%f')[:-3]\n",
    "\n",
    "# Convert the new state vector from TEME (SGP4) to ITRF (ECEF) coordinate frame\n",
    "r, v = TEME2ITRF([epoch_dt], [(r, v)])[0]"
   ]
  },
  {
   "cell_type": "code",
   "execution_count": 4,
   "id": "e51b172c",
   "metadata": {},
   "outputs": [
    {
     "name": "stdout",
     "output_type": "stream",
     "text": [
      "05 Mar 2021 13:12:29.258\n",
      "[-3173.91430404 -6203.94723041   802.14005485] [-0.99114021  1.42336564  7.44539408]\n"
     ]
    }
   ],
   "source": [
    "print(epoch)\n",
    "print(r, v)"
   ]
  },
  {
   "attachments": {},
   "cell_type": "markdown",
   "id": "d820cb0a",
   "metadata": {},
   "source": [
    "## OPM Input\n",
    "If you have a pre or post-launch OPM from your launch provider, enter the epoch and state vector in the cell below. This script expects a UTC timestamp and a state vector in the rotating ITRF (ECEF) coordinate frame. This is usually what is provided, but if you have something else, you can usually do some extra work to get to ECEF.\n",
    "\n",
    "If you don't have an OPM or you're just experimenting, use the dummy OPM data we generated above.\n",
    "\n",
    "Since we're using python lists, you can enter multiple epochs and state vectors to represent multiple satellites."
   ]
  },
  {
   "cell_type": "code",
   "execution_count": 5,
   "id": "5b398658",
   "metadata": {},
   "outputs": [],
   "source": [
    "epochs = [\"05 Mar 2021 13:12:29.258\"]\n",
    "\n",
    "states = [([-3173.91430404, -6203.94723041, 802.14005485], [-0.99114021, 1.42336564, 7.44539408])]"
   ]
  },
  {
   "attachments": {},
   "cell_type": "markdown",
   "id": "cb966ced",
   "metadata": {},
   "source": [
    "Loop through OPM satellites and use GMAT to propagate the spacecraft forward by 3 days using a high precision orbit propagator (Special Perturbations) to obtain an ephemeris we can later use to  fit a TLE"
   ]
  },
  {
   "cell_type": "code",
   "execution_count": 6,
   "id": "3400f15d",
   "metadata": {},
   "outputs": [
    {
     "name": "stdout",
     "output_type": "stream",
     "text": [
      "0\n"
     ]
    }
   ],
   "source": [
    "for idx, (t, state) in enumerate(zip(epochs, states)):\n",
    "    print(idx)\n",
    "\n",
    "    r, v = state[0], state[1]\n",
    "\n",
    "    gmat.LoadScript(\"gmat/prelaunch_opm.script\")\n",
    "\n",
    "    sat = gmat.GetObject(\"Sat\")\n",
    "    sat.SetField(\"Epoch\", t)\n",
    "    sat.SetField(\"X\", r[0])\n",
    "    sat.SetField(\"Y\", r[1])\n",
    "    sat.SetField(\"Z\", r[2])\n",
    "    sat.SetField(\"VX\", v[0])\n",
    "    sat.SetField(\"VY\", v[1])\n",
    "    sat.SetField(\"VZ\", v[2])\n",
    "\n",
    "    # You will want to set appropriate values for drag and mass specific to your staellites\n",
    "    sat.SetField(\"DragArea\", 0.087) # m^2\n",
    "    sat.SetField(\"DryMass\", 15) # kg\n",
    "    \n",
    "    eph = gmat.GetObject(\"EphemerisFile1\")\n",
    "    eph.SetField(\"Filename\", f'/home/dan/GIT/tle-tailor/output/EphemerisFile_Sat{idx}.e')\n",
    "\n",
    "    gmat.RunScript()"
   ]
  },
  {
   "attachments": {},
   "cell_type": "markdown",
   "id": "bd7f92df",
   "metadata": {},
   "source": [
    "Read the GMAT ephemeris files and save them as feather files."
   ]
  },
  {
   "cell_type": "code",
   "execution_count": 7,
   "id": "0e684104",
   "metadata": {},
   "outputs": [],
   "source": [
    "for idx, t in enumerate(epochs):\n",
    "\n",
    "    df = pd.read_fwf(f'{Path.home()}/GIT/tle-tailor/output/EphemerisFile_Sat{idx}.e', widths=(21, 24, 24, 24, 24, 24, 24), names=('time', 'x', 'y', 'z', 'xdot', 'ydot', 'zdot'), skiprows=15, skipfooter=4)\n",
    "    df['timestamp'] = pd.Timestamp(epochs[idx], tz='UTC') + pd.to_timedelta(df.time, unit='s')\n",
    "    df.to_feather(f'sat{idx}.fth')\n"
   ]
  },
  {
   "cell_type": "code",
   "execution_count": null,
   "id": "successful-tobacco",
   "metadata": {},
   "outputs": [],
   "source": []
  },
  {
   "attachments": {},
   "cell_type": "markdown",
   "id": "e230d48e",
   "metadata": {},
   "source": [
    "Loop over the satellites' ephemeris we generated from GMAT and use it to fit a TLE."
   ]
  },
  {
   "cell_type": "code",
   "execution_count": 8,
   "id": "f9b2b016-9a05-4346-8c0b-7beda379564b",
   "metadata": {},
   "outputs": [
    {
     "name": "stdout",
     "output_type": "stream",
     "text": [
      "Epoch: 2021-03-05 13:17:31.498125+00:00\n",
      "\n",
      "1 99999U 1800100  21064.55383678  .00000000  00000-0  12440-3 0  9997\n",
      "2 99999  97.7289 245.4295 0082987 313.9440  70.5114 14.67088177    16\n",
      "\n",
      "\n"
     ]
    }
   ],
   "source": [
    "for idx in range(len(states)):\n",
    "\n",
    "    df = pd.read_feather(f'sat{idx}.fth')\n",
    "\n",
    "    # Convert state vectors from ECEF to TEME\n",
    "    t = df.timestamp\n",
    "    ephemeris = [((row['x'], row['y'], row['z']), (row['xdot'], row['ydot'], row['zdot'])) for idx, row in df.iterrows()]\n",
    "\n",
    "    ephemeris_teme = ITRF2TEME(t, ephemeris)\n",
    "    ephemeris = ephemeris_teme\n",
    "    \n",
    "    with warnings.catch_warnings():\n",
    "        warnings.simplefilter(\"ignore\")\n",
    "        t = np.array([_t.to_pydatetime() for _t in t])\n",
    "\n",
    "    # Run the fitter\n",
    "    last_obs = 4320\n",
    "    obs_stride = 1\n",
    "    epoch_obs = 0\n",
    "    lamda = 1e-3 * 0 + 1 # Interesting.The smaller number works, but diverges. This is better\n",
    "    rms_epsilon = 0.002\n",
    "    iterations, solve_sat, elements_coe, sigma, sigmas, dxs, bs, lamdas, b_epoch, b_new_epoch, b, P, A = \\\n",
    "    test_tle_fit_normalized_equinoctial(t, ephemeris, central_diff=True, last_obs=last_obs, obs_stride=obs_stride, epoch_obs=epoch_obs, lamda=lamda, rms_epsilon=rms_epsilon, debug=False)\n",
    "\n",
    "    # Optionally thin the observations\n",
    "    tt = t[::obs_stride]\n",
    "    tephemeris = ephemeris[::obs_stride]\n",
    "\n",
    "    if last_obs:\n",
    "        tt = tt[:last_obs]\n",
    "        tephemeris = tephemeris[:last_obs]\n",
    "\n",
    "    print(f'Epoch: {tt[epoch_obs]}\\n')\n",
    "\n",
    "    print('\\n'.join(exporter.export_tle(solve_sat.model)))\n",
    "    print('\\n')"
   ]
  },
  {
   "cell_type": "code",
   "execution_count": null,
   "id": "4c96268b",
   "metadata": {},
   "outputs": [],
   "source": []
  },
  {
   "attachments": {},
   "cell_type": "markdown",
   "id": "f9d20823",
   "metadata": {},
   "source": [
    "## Find the distance to TLEs with the same launch and proximate epoch\n",
    "\n",
    "Note: It only makes sense to do this if your satellite has already launched and 18 SDS is tracking objects from your launch. Or you can use it with the example satellite as well."
   ]
  },
  {
   "cell_type": "code",
   "execution_count": 9,
   "id": "a7a3aa4e",
   "metadata": {},
   "outputs": [],
   "source": [
    "import datetime as dt\n",
    "\n",
    "import json\n",
    "\n",
    "from sgp4.conveniences import sat_epoch_datetime, jday_datetime\n",
    "\n",
    "from spacetrack import SpaceTrackClient\n",
    "import spacetrack.operators as op\n",
    "\n",
    "st = SpaceTrackClient(os.environ['SPACETRACK_USER'], os.environ['SPACETRACK_PWD'])"
   ]
  },
  {
   "attachments": {},
   "cell_type": "markdown",
   "id": "646c68ef",
   "metadata": {},
   "source": [
    "Search for objects in the same launch group. For your own satellite, you'll want to update the `object_id_like` variable to match the launch year and launch number portions of your launch's international designator. In the example, the satellite was part of the 33rd launch in 2014."
   ]
  },
  {
   "cell_type": "code",
   "execution_count": 10,
   "id": "cfea155f",
   "metadata": {},
   "outputs": [],
   "source": [
    "object_id_like = \"2014-033~~\" \n",
    "launch_objects = json.loads(st.gp(object_id=op.like(object_id_like), orderby='TLE_LINE1', format='json'))"
   ]
  },
  {
   "cell_type": "code",
   "execution_count": 11,
   "id": "c031073a",
   "metadata": {},
   "outputs": [],
   "source": [
    "tles = []\n",
    "\n",
    "sat_ids = [sat['NORAD_CAT_ID'] for sat in launch_objects]"
   ]
  },
  {
   "attachments": {},
   "cell_type": "markdown",
   "id": "f0519b07",
   "metadata": {},
   "source": [
    "Get the General Perturbations (GP) aka TLEs for objects in the launch group and centered in time around the epoch."
   ]
  },
  {
   "cell_type": "code",
   "execution_count": 12,
   "id": "5918816f",
   "metadata": {},
   "outputs": [],
   "source": [
    "sat_gps = json.loads(st.gp_history(norad_cat_id=','.join(sat_ids),  epoch=op.inclusive_range((sat_epoch_datetime(solve_sat.model) - dt.timedelta(days=1)).date(), (sat_epoch_datetime(solve_sat.model) + dt.timedelta(days=+2)).date()), orderby='TLE_LINE1', format='json'))"
   ]
  },
  {
   "cell_type": "code",
   "execution_count": 13,
   "id": "b276c8ed",
   "metadata": {},
   "outputs": [],
   "source": [
    "def solution_residuals(t, solve_sat, comp_sat):\n",
    "    \n",
    "    bs = []\n",
    "    \n",
    "    offset_idxs = range(len(t))\n",
    "    \n",
    "    for offset_idx in offset_idxs:\n",
    "\n",
    "        # Obs - Nom\n",
    "        jd, jdf = jday_datetime(t[offset_idx])\n",
    "        b = np.ravel(np.array(np.array(solve_sat.sgp4(jd, jdf)[1:] - np.array(comp_sat.sgp4(jd, jdf)[1:]))))[:3]\n",
    "\n",
    "        bs.append(b.T @ b)\n",
    "        \n",
    "    return np.array(bs)"
   ]
  },
  {
   "attachments": {},
   "cell_type": "markdown",
   "id": "93138a26",
   "metadata": {},
   "source": [
    "Loop over objects in the launch group and calculate the residuals between the SpaceTrack object and the TLE we solved for"
   ]
  },
  {
   "cell_type": "code",
   "execution_count": 14,
   "id": "df38cc26",
   "metadata": {},
   "outputs": [],
   "source": [
    "candidates = []\n",
    "\n",
    "for sat in sat_gps:\n",
    "    candidate_sat = EarthSatellite(sat['TLE_LINE1'], sat['TLE_LINE2'], sat['TLE_LINE0'], ts)\n",
    "\n",
    "    res = solution_residuals(t, solve_sat.model, candidate_sat.model)\n",
    "    res_epoch = np.sqrt(res[epoch_obs])\n",
    "    res = np.sqrt(np.mean(res))\n",
    "\n",
    "    candidates.append((sat[\"NORAD_CAT_ID\"], sat[\"OBJECT_ID\"], sat[\"EPOCH\"], sat[\"TLE_LINE0\"], sat[\"TLE_LINE1\"], sat[\"TLE_LINE2\"], res, res_epoch))"
   ]
  },
  {
   "cell_type": "code",
   "execution_count": 15,
   "id": "08bff3f5",
   "metadata": {},
   "outputs": [],
   "source": [
    "df_candidates = pd.DataFrame(candidates, columns=['norad_cat_id', 'object_id', 'epoch', 'tle_line0', 'tle_line1', 'tle_line2', 'residual', 'residual_epoch'])"
   ]
  },
  {
   "attachments": {},
   "cell_type": "markdown",
   "id": "8e4b7768",
   "metadata": {},
   "source": [
    "If we're lucky, when we sort the results by RMS residual, the top (mimimum residual) will correspond to our object. Ideally, the next closest object will have a much larger residual. Note you will likely have several TLEs for each object because we search over several days."
   ]
  },
  {
   "cell_type": "code",
   "execution_count": 16,
   "id": "dc90d850",
   "metadata": {},
   "outputs": [
    {
     "data": {
      "text/html": [
       "<div>\n",
       "<style scoped>\n",
       "    .dataframe tbody tr th:only-of-type {\n",
       "        vertical-align: middle;\n",
       "    }\n",
       "\n",
       "    .dataframe tbody tr th {\n",
       "        vertical-align: top;\n",
       "    }\n",
       "\n",
       "    .dataframe thead th {\n",
       "        text-align: right;\n",
       "    }\n",
       "</style>\n",
       "<table border=\"1\" class=\"dataframe\">\n",
       "  <thead>\n",
       "    <tr style=\"text-align: right;\">\n",
       "      <th></th>\n",
       "      <th>norad_cat_id</th>\n",
       "      <th>object_id</th>\n",
       "      <th>epoch</th>\n",
       "      <th>tle_line0</th>\n",
       "      <th>tle_line1</th>\n",
       "      <th>tle_line2</th>\n",
       "      <th>residual</th>\n",
       "      <th>residual_epoch</th>\n",
       "    </tr>\n",
       "  </thead>\n",
       "  <tbody>\n",
       "    <tr>\n",
       "      <th>105</th>\n",
       "      <td>40019</td>\n",
       "      <td>2014-033K</td>\n",
       "      <td>2021-03-04T10:59:18.094848</td>\n",
       "      <td>0 APRIZESAT 10</td>\n",
       "      <td>1 40019U 14033K   21063.45784832  .00000031  0...</td>\n",
       "      <td>2 40019  97.7273 244.3980 0083219 317.6953  41...</td>\n",
       "      <td>3.590778</td>\n",
       "      <td>0.475737</td>\n",
       "    </tr>\n",
       "    <tr>\n",
       "      <th>106</th>\n",
       "      <td>40019</td>\n",
       "      <td>2014-033K</td>\n",
       "      <td>2021-03-04T10:59:18.094848</td>\n",
       "      <td>0 APRIZESAT 10</td>\n",
       "      <td>1 40019U 14033K   21063.45784832  .00000031  0...</td>\n",
       "      <td>2 40019  97.7273 244.3980 0083219 317.6953  41...</td>\n",
       "      <td>3.590778</td>\n",
       "      <td>0.475737</td>\n",
       "    </tr>\n",
       "    <tr>\n",
       "      <th>104</th>\n",
       "      <td>40019</td>\n",
       "      <td>2014-033K</td>\n",
       "      <td>2021-03-04T01:10:01.639776</td>\n",
       "      <td>0 APRIZESAT 10</td>\n",
       "      <td>1 40019U 14033K   21063.04863009  .00000026  0...</td>\n",
       "      <td>2 40019  97.7273 244.0120 0083241 319.0193  40...</td>\n",
       "      <td>3.629871</td>\n",
       "      <td>0.487912</td>\n",
       "    </tr>\n",
       "    <tr>\n",
       "      <th>107</th>\n",
       "      <td>40019</td>\n",
       "      <td>2014-033K</td>\n",
       "      <td>2021-03-04T17:32:09.071520</td>\n",
       "      <td>0 APRIZESAT 10</td>\n",
       "      <td>1 40019U 14033K   21063.73066055  .00000024  0...</td>\n",
       "      <td>2 40019  97.7274 244.6553 0083197 316.8128  42...</td>\n",
       "      <td>3.732586</td>\n",
       "      <td>0.433976</td>\n",
       "    </tr>\n",
       "    <tr>\n",
       "      <th>108</th>\n",
       "      <td>40019</td>\n",
       "      <td>2014-033K</td>\n",
       "      <td>2021-03-04T17:32:09.071520</td>\n",
       "      <td>0 APRIZESAT 10</td>\n",
       "      <td>1 40019U 14033K   21063.73066055  .00000024  0...</td>\n",
       "      <td>2 40019  97.7274 244.6553 0083197 316.8128  42...</td>\n",
       "      <td>3.732586</td>\n",
       "      <td>0.433976</td>\n",
       "    </tr>\n",
       "    <tr>\n",
       "      <th>116</th>\n",
       "      <td>40019</td>\n",
       "      <td>2014-033K</td>\n",
       "      <td>2021-03-06T21:54:56.929824</td>\n",
       "      <td>0 APRIZESAT 10</td>\n",
       "      <td>1 40019U 14033K   21065.91315891  .00000034  0...</td>\n",
       "      <td>2 40019  97.7276 246.7139 0083072 309.7504  49...</td>\n",
       "      <td>3.741052</td>\n",
       "      <td>0.396077</td>\n",
       "    </tr>\n",
       "    <tr>\n",
       "      <th>117</th>\n",
       "      <td>40019</td>\n",
       "      <td>2014-033K</td>\n",
       "      <td>2021-03-06T23:33:09.677664</td>\n",
       "      <td>0 APRIZESAT 10</td>\n",
       "      <td>1 40019U 14033K   21065.98136201  .00000035  0...</td>\n",
       "      <td>2 40019  97.7276 246.7783 0083069 309.5300  49...</td>\n",
       "      <td>3.742305</td>\n",
       "      <td>0.404213</td>\n",
       "    </tr>\n",
       "    <tr>\n",
       "      <th>110</th>\n",
       "      <td>40019</td>\n",
       "      <td>2014-033K</td>\n",
       "      <td>2021-03-05T11:32:29.258016</td>\n",
       "      <td>0 APRIZESAT 10</td>\n",
       "      <td>1 40019U 14033K   21064.48089419  .00000027  0...</td>\n",
       "      <td>2 40019  97.7274 245.3630 0083155 314.3836  45...</td>\n",
       "      <td>3.742855</td>\n",
       "      <td>0.416303</td>\n",
       "    </tr>\n",
       "    <tr>\n",
       "      <th>109</th>\n",
       "      <td>40019</td>\n",
       "      <td>2014-033K</td>\n",
       "      <td>2021-03-05T00:05:00.048192</td>\n",
       "      <td>0 APRIZESAT 10</td>\n",
       "      <td>1 40019U 14033K   21064.00347278  .00000025  0...</td>\n",
       "      <td>2 40019  97.7274 244.9126 0083182 315.9314  43...</td>\n",
       "      <td>3.743016</td>\n",
       "      <td>0.420459</td>\n",
       "    </tr>\n",
       "    <tr>\n",
       "      <th>112</th>\n",
       "      <td>40019</td>\n",
       "      <td>2014-033K</td>\n",
       "      <td>2021-03-05T18:05:20.238144</td>\n",
       "      <td>0 APRIZESAT 10</td>\n",
       "      <td>1 40019U 14033K   21064.75370646  .00000028  0...</td>\n",
       "      <td>2 40019  97.7275 245.6203 0083134 313.5003  45...</td>\n",
       "      <td>3.743527</td>\n",
       "      <td>0.405091</td>\n",
       "    </tr>\n",
       "    <tr>\n",
       "      <th>111</th>\n",
       "      <td>40019</td>\n",
       "      <td>2014-033K</td>\n",
       "      <td>2021-03-05T18:05:20.238144</td>\n",
       "      <td>0 APRIZESAT 10</td>\n",
       "      <td>1 40019U 14033K   21064.75370646  .00000028  0...</td>\n",
       "      <td>2 40019  97.7275 245.6203 0083134 313.5003  45...</td>\n",
       "      <td>3.743527</td>\n",
       "      <td>0.405091</td>\n",
       "    </tr>\n",
       "    <tr>\n",
       "      <th>114</th>\n",
       "      <td>40019</td>\n",
       "      <td>2014-033K</td>\n",
       "      <td>2021-03-06T12:05:40.445376</td>\n",
       "      <td>0 APRIZESAT 10</td>\n",
       "      <td>1 40019U 14033K   21065.50394034  .00000031  0...</td>\n",
       "      <td>2 40019  97.7275 246.3279 0083098 311.0743  48...</td>\n",
       "      <td>3.744279</td>\n",
       "      <td>0.398433</td>\n",
       "    </tr>\n",
       "    <tr>\n",
       "      <th>115</th>\n",
       "      <td>40019</td>\n",
       "      <td>2014-033K</td>\n",
       "      <td>2021-03-06T12:05:40.445376</td>\n",
       "      <td>0 APRIZESAT 10</td>\n",
       "      <td>1 40019U 14033K   21065.50394034  .00000031  0...</td>\n",
       "      <td>2 40019  97.7275 246.3279 0083098 311.0743  48...</td>\n",
       "      <td>3.744279</td>\n",
       "      <td>0.398433</td>\n",
       "    </tr>\n",
       "    <tr>\n",
       "      <th>113</th>\n",
       "      <td>40019</td>\n",
       "      <td>2014-033K</td>\n",
       "      <td>2021-03-06T02:16:23.967840</td>\n",
       "      <td>0 APRIZESAT 10</td>\n",
       "      <td>1 40019U 14033K   21065.09472185  .00000026  0...</td>\n",
       "      <td>2 40019  97.7275 245.9420 0083118 312.3991  47...</td>\n",
       "      <td>3.780822</td>\n",
       "      <td>0.406447</td>\n",
       "    </tr>\n",
       "    <tr>\n",
       "      <th>251</th>\n",
       "      <td>40034</td>\n",
       "      <td>2014-033AA</td>\n",
       "      <td>2021-03-04T03:15:40.659264</td>\n",
       "      <td>0 ANTELSAT</td>\n",
       "      <td>1 40034U 14033AA  21063.13588726  .00000344  0...</td>\n",
       "      <td>2 40034  97.6882 271.9813 0057274 238.6148 120...</td>\n",
       "      <td>4558.820992</td>\n",
       "      <td>8261.487980</td>\n",
       "    </tr>\n",
       "    <tr>\n",
       "      <th>252</th>\n",
       "      <td>40034</td>\n",
       "      <td>2014-033AA</td>\n",
       "      <td>2021-03-04T13:02:02.023008</td>\n",
       "      <td>0 ANTELSAT</td>\n",
       "      <td>1 40034U 14033AA  21063.54307897  .00000325  0...</td>\n",
       "      <td>2 40034  97.6882 272.3679 0057293 237.2686 122...</td>\n",
       "      <td>4558.829787</td>\n",
       "      <td>8261.546723</td>\n",
       "    </tr>\n",
       "    <tr>\n",
       "      <th>253</th>\n",
       "      <td>40034</td>\n",
       "      <td>2014-033AA</td>\n",
       "      <td>2021-03-04T13:02:02.023008</td>\n",
       "      <td>0 ANTELSAT</td>\n",
       "      <td>1 40034U 14033AA  21063.54307897  .00000325  0...</td>\n",
       "      <td>2 40034  97.6882 272.3679 0057293 237.2686 122...</td>\n",
       "      <td>4558.829787</td>\n",
       "      <td>8261.546723</td>\n",
       "    </tr>\n",
       "    <tr>\n",
       "      <th>254</th>\n",
       "      <td>40034</td>\n",
       "      <td>2014-033AA</td>\n",
       "      <td>2021-03-05T11:50:11.864832</td>\n",
       "      <td>0 ANTELSAT</td>\n",
       "      <td>1 40034U 14033AA  21064.49319288  .00000323  0...</td>\n",
       "      <td>2 40034  97.6882 273.2699 0057317 234.1334 125...</td>\n",
       "      <td>4558.845588</td>\n",
       "      <td>8261.565274</td>\n",
       "    </tr>\n",
       "    <tr>\n",
       "      <th>256</th>\n",
       "      <td>40034</td>\n",
       "      <td>2014-033AA</td>\n",
       "      <td>2021-03-05T19:58:49.659744</td>\n",
       "      <td>0 ANTELSAT</td>\n",
       "      <td>1 40034U 14033AA  21064.83251921  .00000328  0...</td>\n",
       "      <td>2 40034  97.6882 273.5920 0057333 233.0096 126...</td>\n",
       "      <td>4558.851001</td>\n",
       "      <td>8261.555717</td>\n",
       "    </tr>\n",
       "    <tr>\n",
       "      <th>255</th>\n",
       "      <td>40034</td>\n",
       "      <td>2014-033AA</td>\n",
       "      <td>2021-03-05T19:58:49.659744</td>\n",
       "      <td>0 ANTELSAT</td>\n",
       "      <td>1 40034U 14033AA  21064.83251921  .00000328  0...</td>\n",
       "      <td>2 40034  97.6882 273.5920 0057333 233.0096 126...</td>\n",
       "      <td>4558.851001</td>\n",
       "      <td>8261.555717</td>\n",
       "    </tr>\n",
       "  </tbody>\n",
       "</table>\n",
       "</div>"
      ],
      "text/plain": [
       "    norad_cat_id   object_id                       epoch       tle_line0  \\\n",
       "105        40019   2014-033K  2021-03-04T10:59:18.094848  0 APRIZESAT 10   \n",
       "106        40019   2014-033K  2021-03-04T10:59:18.094848  0 APRIZESAT 10   \n",
       "104        40019   2014-033K  2021-03-04T01:10:01.639776  0 APRIZESAT 10   \n",
       "107        40019   2014-033K  2021-03-04T17:32:09.071520  0 APRIZESAT 10   \n",
       "108        40019   2014-033K  2021-03-04T17:32:09.071520  0 APRIZESAT 10   \n",
       "116        40019   2014-033K  2021-03-06T21:54:56.929824  0 APRIZESAT 10   \n",
       "117        40019   2014-033K  2021-03-06T23:33:09.677664  0 APRIZESAT 10   \n",
       "110        40019   2014-033K  2021-03-05T11:32:29.258016  0 APRIZESAT 10   \n",
       "109        40019   2014-033K  2021-03-05T00:05:00.048192  0 APRIZESAT 10   \n",
       "112        40019   2014-033K  2021-03-05T18:05:20.238144  0 APRIZESAT 10   \n",
       "111        40019   2014-033K  2021-03-05T18:05:20.238144  0 APRIZESAT 10   \n",
       "114        40019   2014-033K  2021-03-06T12:05:40.445376  0 APRIZESAT 10   \n",
       "115        40019   2014-033K  2021-03-06T12:05:40.445376  0 APRIZESAT 10   \n",
       "113        40019   2014-033K  2021-03-06T02:16:23.967840  0 APRIZESAT 10   \n",
       "251        40034  2014-033AA  2021-03-04T03:15:40.659264      0 ANTELSAT   \n",
       "252        40034  2014-033AA  2021-03-04T13:02:02.023008      0 ANTELSAT   \n",
       "253        40034  2014-033AA  2021-03-04T13:02:02.023008      0 ANTELSAT   \n",
       "254        40034  2014-033AA  2021-03-05T11:50:11.864832      0 ANTELSAT   \n",
       "256        40034  2014-033AA  2021-03-05T19:58:49.659744      0 ANTELSAT   \n",
       "255        40034  2014-033AA  2021-03-05T19:58:49.659744      0 ANTELSAT   \n",
       "\n",
       "                                             tle_line1  \\\n",
       "105  1 40019U 14033K   21063.45784832  .00000031  0...   \n",
       "106  1 40019U 14033K   21063.45784832  .00000031  0...   \n",
       "104  1 40019U 14033K   21063.04863009  .00000026  0...   \n",
       "107  1 40019U 14033K   21063.73066055  .00000024  0...   \n",
       "108  1 40019U 14033K   21063.73066055  .00000024  0...   \n",
       "116  1 40019U 14033K   21065.91315891  .00000034  0...   \n",
       "117  1 40019U 14033K   21065.98136201  .00000035  0...   \n",
       "110  1 40019U 14033K   21064.48089419  .00000027  0...   \n",
       "109  1 40019U 14033K   21064.00347278  .00000025  0...   \n",
       "112  1 40019U 14033K   21064.75370646  .00000028  0...   \n",
       "111  1 40019U 14033K   21064.75370646  .00000028  0...   \n",
       "114  1 40019U 14033K   21065.50394034  .00000031  0...   \n",
       "115  1 40019U 14033K   21065.50394034  .00000031  0...   \n",
       "113  1 40019U 14033K   21065.09472185  .00000026  0...   \n",
       "251  1 40034U 14033AA  21063.13588726  .00000344  0...   \n",
       "252  1 40034U 14033AA  21063.54307897  .00000325  0...   \n",
       "253  1 40034U 14033AA  21063.54307897  .00000325  0...   \n",
       "254  1 40034U 14033AA  21064.49319288  .00000323  0...   \n",
       "256  1 40034U 14033AA  21064.83251921  .00000328  0...   \n",
       "255  1 40034U 14033AA  21064.83251921  .00000328  0...   \n",
       "\n",
       "                                             tle_line2     residual  \\\n",
       "105  2 40019  97.7273 244.3980 0083219 317.6953  41...     3.590778   \n",
       "106  2 40019  97.7273 244.3980 0083219 317.6953  41...     3.590778   \n",
       "104  2 40019  97.7273 244.0120 0083241 319.0193  40...     3.629871   \n",
       "107  2 40019  97.7274 244.6553 0083197 316.8128  42...     3.732586   \n",
       "108  2 40019  97.7274 244.6553 0083197 316.8128  42...     3.732586   \n",
       "116  2 40019  97.7276 246.7139 0083072 309.7504  49...     3.741052   \n",
       "117  2 40019  97.7276 246.7783 0083069 309.5300  49...     3.742305   \n",
       "110  2 40019  97.7274 245.3630 0083155 314.3836  45...     3.742855   \n",
       "109  2 40019  97.7274 244.9126 0083182 315.9314  43...     3.743016   \n",
       "112  2 40019  97.7275 245.6203 0083134 313.5003  45...     3.743527   \n",
       "111  2 40019  97.7275 245.6203 0083134 313.5003  45...     3.743527   \n",
       "114  2 40019  97.7275 246.3279 0083098 311.0743  48...     3.744279   \n",
       "115  2 40019  97.7275 246.3279 0083098 311.0743  48...     3.744279   \n",
       "113  2 40019  97.7275 245.9420 0083118 312.3991  47...     3.780822   \n",
       "251  2 40034  97.6882 271.9813 0057274 238.6148 120...  4558.820992   \n",
       "252  2 40034  97.6882 272.3679 0057293 237.2686 122...  4558.829787   \n",
       "253  2 40034  97.6882 272.3679 0057293 237.2686 122...  4558.829787   \n",
       "254  2 40034  97.6882 273.2699 0057317 234.1334 125...  4558.845588   \n",
       "256  2 40034  97.6882 273.5920 0057333 233.0096 126...  4558.851001   \n",
       "255  2 40034  97.6882 273.5920 0057333 233.0096 126...  4558.851001   \n",
       "\n",
       "     residual_epoch  \n",
       "105        0.475737  \n",
       "106        0.475737  \n",
       "104        0.487912  \n",
       "107        0.433976  \n",
       "108        0.433976  \n",
       "116        0.396077  \n",
       "117        0.404213  \n",
       "110        0.416303  \n",
       "109        0.420459  \n",
       "112        0.405091  \n",
       "111        0.405091  \n",
       "114        0.398433  \n",
       "115        0.398433  \n",
       "113        0.406447  \n",
       "251     8261.487980  \n",
       "252     8261.546723  \n",
       "253     8261.546723  \n",
       "254     8261.565274  \n",
       "256     8261.555717  \n",
       "255     8261.555717  "
      ]
     },
     "execution_count": 16,
     "metadata": {},
     "output_type": "execute_result"
    }
   ],
   "source": [
    "df_candidates.sort_values('residual').head(20)"
   ]
  },
  {
   "cell_type": "code",
   "execution_count": 17,
   "id": "0372f531",
   "metadata": {},
   "outputs": [
    {
     "data": {
      "text/plain": [
       "105"
      ]
     },
     "execution_count": 17,
     "metadata": {},
     "output_type": "execute_result"
    }
   ],
   "source": [
    "obj_ix = df_candidates.sort_values('residual').index[0]\n",
    "obj_ix"
   ]
  },
  {
   "cell_type": "code",
   "execution_count": 18,
   "id": "ecef5add",
   "metadata": {},
   "outputs": [
    {
     "name": "stdout",
     "output_type": "stream",
     "text": [
      "('1 99999U 1800100  21064.55383678  .00000000  00000-0  12440-3 0  9997', '2 99999  97.7289 245.4295 0082987 313.9440  70.5114 14.67088177    16')\n",
      "('1 40049U 14033AR  21065.75113626  .00000369  00000-0  45874-4 0  9993', '2 40049  97.9297 354.7348 0013281 153.7451 206.4441 14.88346192363927')\n"
     ]
    }
   ],
   "source": [
    "print(exporter.export_tle(solve_sat.model))\n",
    "print((sat['TLE_LINE1'], sat['TLE_LINE2']))"
   ]
  },
  {
   "cell_type": "code",
   "execution_count": 19,
   "id": "26605381",
   "metadata": {},
   "outputs": [
    {
     "name": "stdout",
     "output_type": "stream",
     "text": [
      "1 40019U 14033K   21063.45784832  .00000031  00000-0  13645-4 0  9995\n",
      "2 40019  97.7273 244.3980 0083219 317.6953  41.7853 14.67086494358887\n"
     ]
    },
    {
     "data": {
      "text/plain": [
       "('1 40019U 14033K   21063.45784832  .00000031  00000-0  13645-4 0  9995',\n",
       " '2 40019  97.7273 244.3980 0083219 317.6953  41.7853 14.67086494358887')"
      ]
     },
     "execution_count": 19,
     "metadata": {},
     "output_type": "execute_result"
    }
   ],
   "source": [
    "sat = sat_gps[obj_ix]\n",
    "print(sat['TLE_LINE1'])\n",
    "print(sat['TLE_LINE2'])\n",
    "candidate_sat = EarthSatellite(sat['TLE_LINE1'], sat['TLE_LINE2'], sat['TLE_LINE0'], ts)\n",
    "exporter.export_tle(candidate_sat.model)"
   ]
  },
  {
   "cell_type": "code",
   "execution_count": 20,
   "id": "444ccbc4",
   "metadata": {},
   "outputs": [
    {
     "data": {
      "text/plain": [
       "array([-0.4107158 , -0.20858495, -0.11887224])"
      ]
     },
     "execution_count": 20,
     "metadata": {},
     "output_type": "execute_result"
    }
   ],
   "source": [
    "jd, jdf = solve_sat.model.jdsatepoch, solve_sat.model.jdsatepochF\n",
    "(np.ravel(solve_sat.model.sgp4(jd, jdf)[1:]) - np.ravel(candidate_sat.model.sgp4(jd, jdf)[1:]))[:3]"
   ]
  },
  {
   "cell_type": "code",
   "execution_count": 21,
   "id": "0d9e8ca3",
   "metadata": {},
   "outputs": [
    {
     "data": {
      "text/plain": [
       "Text(0, 0.5, 'Position Residual (m)')"
      ]
     },
     "execution_count": 21,
     "metadata": {},
     "output_type": "execute_result"
    },
    {
     "data": {
      "image/png": "[encoded data removed]",
      "text/plain": [
       "<Figure size 640x480 with 1 Axes>"
      ]
     },
     "metadata": {},
     "output_type": "display_data"
    }
   ],
   "source": [
    "plt.plot(np.sqrt(solution_residuals(t, solve_sat.model, candidate_sat.model)) * 1000)\n",
    "plt.title(\"Solution vs. Candidate NORAD Object Residuals\")\n",
    "plt.xlabel(\"Observation number\")\n",
    "plt.ylabel(\"Position Residual (m)\")"
   ]
  },
  {
   "cell_type": "code",
   "execution_count": null,
   "id": "b1009161",
   "metadata": {},
   "outputs": [],
   "source": []
  },
  {
   "cell_type": "markdown",
   "id": "ce81ed56-c64b-4c88-a185-b862d3607c6e",
   "metadata": {},
   "source": [
    "## Calculate new TLE at same epoch as Reference / Truth TLE\n",
    "\n",
    "* Grab the the epoch from the reference (truth) TLE\n",
    "* Fit all ephemeris so epoch is in the sweet spot of the bathtub\n",
    "    * This is probably bullshit, since we wouldn't have the future ephemeris yet\n",
    "* Calculate the predicted state vector at the reference epoch using the fitted model\n",
    "* add the predicted state vector to our ephemeris\n",
    "* Re-fit up to the predicted state vector to get the mean elements for the reference epoch\n",
    "* Compare fitted TLE to reference TLE\n",
    "\n",
    "### Notes\n",
    "* Probably better to interpolate ephemeris or use EKF to reference epoch"
   ]
  },
  {
   "cell_type": "code",
   "execution_count": 22,
   "id": "13ca5515-3de9-43c3-a1a0-7bff462aecc0",
   "metadata": {},
   "outputs": [],
   "source": [
    "ref_tle = candidate_sat"
   ]
  },
  {
   "cell_type": "code",
   "execution_count": 23,
   "id": "fbf1cfe4-0c37-43bd-b9f6-c3e88f86a2ef",
   "metadata": {},
   "outputs": [
    {
     "data": {
      "text/plain": [
       "datetime.datetime(2021, 3, 4, 10, 59, 18, 94847, tzinfo=UTC)"
      ]
     },
     "execution_count": 23,
     "metadata": {},
     "output_type": "execute_result"
    }
   ],
   "source": [
    "sat_epoch_datetime(ref_tle.model)"
   ]
  },
  {
   "cell_type": "code",
   "execution_count": 24,
   "id": "1c3e0bfa-3b9b-4c70-8731-aa165c2ed27d",
   "metadata": {},
   "outputs": [],
   "source": [
    "ajd, ajdf = jday_datetime(sat_epoch_datetime(ref_tle.model))"
   ]
  },
  {
   "cell_type": "code",
   "execution_count": 25,
   "id": "1aab5431-18bf-418b-8a5e-48243d50ab57",
   "metadata": {},
   "outputs": [],
   "source": [
    "# We'll do the thinning outside so we can preserve the new epoch\n",
    "\n",
    "if obs_stride:\n",
    "    tt = t[::obs_stride]\n",
    "    et = ephemeris[::obs_stride]\n",
    "\n",
    "if last_obs:\n",
    "    tt = tt[:last_obs]\n",
    "    et = et[:last_obs]\n",
    "\n",
    "aligned_epoch_obs = np.searchsorted(tt, sat_epoch_datetime(ref_tle.model))\n",
    "# ii = np.searchsorted(t, sat_epoch_datetime(ref_tle.model))\n",
    "tt = np.insert(t, aligned_epoch_obs, sat_epoch_datetime(ref_tle.model))\n",
    "et = ephemeris[:aligned_epoch_obs] + [tuple(np.array(x) for x in ref_tle.model.sgp4(ajd, ajdf)[1:])] + ephemeris[aligned_epoch_obs:] "
   ]
  },
  {
   "cell_type": "code",
   "execution_count": 26,
   "id": "1a59ceca",
   "metadata": {},
   "outputs": [
    {
     "data": {
      "text/plain": [
       "datetime.datetime(2021, 3, 4, 10, 59, 18, 94847, tzinfo=UTC)"
      ]
     },
     "execution_count": 26,
     "metadata": {},
     "output_type": "execute_result"
    }
   ],
   "source": [
    "sat_epoch_datetime(ref_tle.model)"
   ]
  },
  {
   "cell_type": "code",
   "execution_count": 27,
   "id": "a424100d",
   "metadata": {},
   "outputs": [
    {
     "data": {
      "text/plain": [
       "datetime.datetime(2021, 3, 4, 10, 59, 18, 94847, tzinfo=UTC)"
      ]
     },
     "execution_count": 27,
     "metadata": {},
     "output_type": "execute_result"
    }
   ],
   "source": [
    "tt[aligned_epoch_obs]"
   ]
  },
  {
   "cell_type": "code",
   "execution_count": 28,
   "id": "0e62fca3-46fc-4aae-88a6-e62373d1c5d7",
   "metadata": {},
   "outputs": [],
   "source": [
    "iterations, aligned_solve_sat, elements_coe, sigma, sigmas, dxs, bs, lamdas, b_epoch, b_new_epoch, b, P, A = test_tle_fit_normalized_equinoctial(tt, et, last_obs=None, obs_stride=None, epoch_obs=aligned_epoch_obs, lamda=1e-3, rms_epsilon=0.0001, debug=False)"
   ]
  },
  {
   "cell_type": "code",
   "execution_count": 29,
   "id": "88224b20-67ca-4904-8b83-3e3299c44146",
   "metadata": {},
   "outputs": [
    {
     "data": {
      "text/plain": [
       "('1 99999U 14033K   21063.45784832  .00000000  00000-0  13843-3 0  9991',\n",
       " '2 99999  97.7289 244.3959 0082968 317.4242  42.0541 14.67086119    11')"
      ]
     },
     "execution_count": 29,
     "metadata": {},
     "output_type": "execute_result"
    }
   ],
   "source": [
    "aligned_solve_sat.model.intldesg = ref_tle.model.intldesg\n",
    "# aligned_solve_sat.model.satnum = ref_tle.model.satnum # FIXME: assign this in satrec at creation\n",
    "aligned_solve_sat.model.classification = ref_tle.model.classification\n",
    "# aligned_solve_sat.model.ndot = ref_tle.model.ndot # Useless, but pretty\n",
    "# aligned_solve_sat.model.nddot = ref_tle.model.nddot# Useless, but pretty\n",
    "\n",
    "exporter.export_tle(aligned_solve_sat.model)"
   ]
  },
  {
   "cell_type": "code",
   "execution_count": 30,
   "id": "0512d433-60d7-4de9-945a-b498f449c894",
   "metadata": {},
   "outputs": [
    {
     "data": {
      "text/plain": [
       "('1 40019U 14033K   21063.45784832  .00000031  00000-0  13645-4 0  9995',\n",
       " '2 40019  97.7273 244.3980 0083219 317.6953  41.7853 14.67086494358887')"
      ]
     },
     "execution_count": 30,
     "metadata": {},
     "output_type": "execute_result"
    }
   ],
   "source": [
    "exporter.export_tle(ref_tle.model)"
   ]
  },
  {
   "cell_type": "code",
   "execution_count": 31,
   "id": "c74616e7-21b8-4f7e-b9d2-fe813bfcab9d",
   "metadata": {},
   "outputs": [
    {
     "data": {
      "text/plain": [
       "Text(0, 0.5, 'Position Residual (m)')"
      ]
     },
     "execution_count": 31,
     "metadata": {},
     "output_type": "execute_result"
    },
    {
     "data": {
      "image/png": "[encoded data removed]",
      "text/plain": [
       "<Figure size 640x480 with 1 Axes>"
      ]
     },
     "metadata": {},
     "output_type": "display_data"
    }
   ],
   "source": [
    "plt.plot(np.sqrt(solution_residuals(t, aligned_solve_sat.model, ref_tle.model)) * 1000)\n",
    "plt.title(\"Solution vs. Candidate NORAD Object Residuals\")\n",
    "plt.xlabel(\"Observation number\")\n",
    "plt.ylabel(\"Position Residual (m)\")"
   ]
  },
  {
   "cell_type": "code",
   "execution_count": null,
   "id": "7744e542",
   "metadata": {},
   "outputs": [],
   "source": []
  }
 ],
 "metadata": {
  "kernelspec": {
   "display_name": ".venv",
   "language": "python",
   "name": "python3"
  },
  "language_info": {
   "codemirror_mode": {
    "name": "ipython",
    "version": 3
   },
   "file_extension": ".py",
   "mimetype": "text/x-python",
   "name": "python",
   "nbconvert_exporter": "python",
   "pygments_lexer": "ipython3",
   "version": "3.10.12"
  },
  "vscode": {
   "interpreter": {
    "hash": "422d96f55d2b279cc3694c0d7101cd7135f83d32ba2b51a1c4e4fd4874965f43"
   }
  }
 },
 "nbformat": 4,
 "nbformat_minor": 5
}
