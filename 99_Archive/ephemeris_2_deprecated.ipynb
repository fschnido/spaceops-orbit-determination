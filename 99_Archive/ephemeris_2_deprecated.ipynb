{
 "cells": [
  {
   "cell_type": "code",
   "execution_count": 1,
   "metadata": {},
   "outputs": [],
   "source": [
    "# Imports:\n",
    "import sys\n",
    "import warnings\n",
    "from os import getcwd\n",
    "\n",
    "import datetime as dt\n",
    "\n",
    "import numpy as np\n",
    "import pandas as pd\n",
    "import matplotlib.pyplot as plt\n",
    "\n",
    "from pathlib import Path\n",
    "\n",
    "from skyfield.api import EarthSatellite, load\n",
    "from sgp4.api import Satrec, WGS72\n",
    "from sgp4.model import wgs72, wgs84\n",
    "from sgp4.conveniences import jday_datetime, UTC, sat_epoch_datetime, dump_satrec\n",
    "from sgp4 import exporter\n",
    "\n",
    "# Load the GMAT Python API\n",
    "sys.path.append('C:/Work/Programme/GMAT_R2022a/GMAT/api/')\n",
    "from load_gmat import *\n",
    "\n",
    "# Load helper functions\n",
    "#from src.functions import *"
   ]
  },
  {
   "cell_type": "code",
   "execution_count": 2,
   "metadata": {},
   "outputs": [],
   "source": [
    "# %pip install astropy --upgrade --user"
   ]
  },
  {
   "cell_type": "code",
   "execution_count": 3,
   "metadata": {},
   "outputs": [],
   "source": [
    "# load ephemeris/gps data\n",
    "filename = \"SP_87\"\n",
    "sat_name = \"tubin_2bin\"\n",
    "gps_data = pd.read_csv(getcwd() + \"/ephemeris_gps/\" + filename + \".csv\",sep=\";\")"
   ]
  },
  {
   "cell_type": "code",
   "execution_count": 4,
   "metadata": {},
   "outputs": [
    {
     "name": "stdout",
     "output_type": "stream",
     "text": [
      "['Timestamp [UTC]', 'Position (TOD) X [km]', 'Position (TOD) Y [km]', 'Position (TOD) Z [km]', 'Velocity (TOD) X [m/s]', 'Velocity (TOD) Y [m/s]', 'Velocity (TOD) Z [m/s]', 'Navigation solution epoch UTC', 'GPS navigation status', 'Number of tracked satellites', 'Position dilution of precision', 'Position (interpolated) (TOD) X [km]', 'Position (interpolated) (TOD) Y [km]', 'Position (interpolated) (TOD) Z [km]', 'Velocity (interpolated) (TOD) X [m/s]', 'Velocity (interpolated) (TOD) Y [m/s]', 'Velocity (interpolated) (TOD) Z [m/s]']\n",
      "3   2024-05-15 15:05:47.000\n",
      "4   2024-05-15 15:06:16.800\n",
      "5   2024-05-15 15:06:46.800\n",
      "6   2024-05-15 15:07:16.800\n",
      "7   2024-05-15 15:07:46.800\n",
      "8   2024-05-15 15:08:16.800\n",
      "Name: Timestamp [UTC], dtype: datetime64[ns]\n"
     ]
    }
   ],
   "source": [
    "# process ephemeris/gps data\n",
    "gps_data[\"Position (TOD) Y [km]\"].iloc[0]\n",
    "gps_data_headers = list(gps_data)\n",
    "print(gps_data_headers)\n",
    "\n",
    "# only use gps_data where navigation status = 2 \n",
    "gps_data = gps_data[gps_data[\"GPS navigation status\"] != 0]\n",
    "gps_data = gps_data[gps_data[\"GPS navigation status\"] != 255]\n",
    "\n",
    "# convert to datetime \n",
    "gps_data[\"Timestamp [UTC]\"] = pd.to_datetime(gps_data[\"Timestamp [UTC]\"])\n",
    "print(gps_data[\"Timestamp [UTC]\"])"
   ]
  },
  {
   "cell_type": "code",
   "execution_count": 5,
   "metadata": {},
   "outputs": [],
   "source": [
    "#from astropy.coordinates import TEME # True Equator Mean Equinox\n",
    "#from astropy.coordinates import TETE # True of date / True Equator True Equinox\n",
    "# https://docs.astropy.org/en/stable/coordinates/index.html#module-astropy.coordinates.builtin_frames\n",
    "# conversion from TETE (TOD) to TEME\n",
    "\n",
    "import astropy\n",
    "\n",
    "#from astropy.coordinates import SkyCoord\n",
    "#from astropy.table import QTable"
   ]
  },
  {
   "cell_type": "code",
   "execution_count": null,
   "metadata": {},
   "outputs": [],
   "source": [
    "pos = SkyCoord(gps_data[\"Position (TOD) X [km]\"].iloc[:],gps_data[\"Position (TOD) Y [km]\"].iloc[:],gps_data[\"Position (TOD) Z [km]\"].iloc[:], representation_type = 'cartesian', frame = 'tete', unit = 'km')\n",
    "pos.transform_to('teme')\n",
    "pos = QTable([pos],names = ['skycoord']) \n",
    "pos.write('skycoord_pos.ecsv',overwrite = True)\n",
    "pos = pd.read_csv('skycoord_pos.ecsv', comment='#')\n",
    "#pos.rename(columns={\"skycoord.x\" : \"pos_x\", \"skycoord.y\" : \"pos_y\",\"skycoord.z\" : \"pos_z\"})\n",
    "\n",
    "vel = SkyCoord(gps_data[\"Velocity (TOD) X [m/s]\"].iloc[:],gps_data[\"Velocity (TOD) Y [m/s]\"].iloc[:],gps_data[\"Velocity (TOD) Z [m/s]\"].iloc[:], representation_type = 'cartesian', frame = 'tete', unit = 'm/s')\n",
    "vel.transform_to('teme')\n",
    "vel = QTable([vel],names = ['skycoord']) \n",
    "vel.write('skycoord_vel.ecsv',overwrite = True)\n",
    "vel = pd.read_csv('skycoord_vel.ecsv', comment='#')\n",
    "#vel.rename(columns={\"skycoord.x\" : \"vel_x\", \"skycoord.y\" : \"vel_y\",\"skycoord.z\" : \"vel_z\"})"
   ]
  },
  {
   "cell_type": "code",
   "execution_count": null,
   "metadata": {},
   "outputs": [
    {
     "name": "stderr",
     "output_type": "stream",
     "text": [
      "/home/student/Desktop/space_ops/src/functions.py:360: RuntimeWarning: invalid value encountered in sqrt\n",
      "  n = np.sqrt(wgs72.mu / a**3) * 60  # radians / min\n",
      "/home/student/Desktop/space_ops/src/functions.py:365: RuntimeWarning: invalid value encountered in sqrt\n",
      "  period = 2 * np.pi * np.sqrt(a**3 / wgs72.mu) / 60  # minutes\n",
      "/home/student/Desktop/space_ops/src/functions.py:387: RuntimeWarning: invalid value encountered in sqrt\n",
      "  variances[3:] /= np.sqrt(wgs72.mu / orig_elements[0])\n",
      "/home/student/Desktop/space_ops/src/functions.py:392: RuntimeWarning: invalid value encountered in sqrt\n",
      "  b_scale[3:] /= np.sqrt(wgs72.mu / orig_elements[0])\n",
      "/home/student/Desktop/space_ops/src/functions.py:35: RuntimeWarning: invalid value encountered in sqrt\n",
      "  n = np.sqrt(wgs72.mu / a**3)\n",
      "/home/student/Desktop/space_ops/src/functions.py:479: RuntimeWarning: invalid value encountered in sqrt\n",
      "  A[3:6, idx] = res[1] / np.sqrt(wgs72.mu / orig_elements[0])\n"
     ]
    },
    {
     "ename": "LinAlgError",
     "evalue": "Eigenvalues did not converge",
     "output_type": "error",
     "traceback": [
      "\u001b[0;31m---------------------------------------------------------------------------\u001b[0m",
      "\u001b[0;31mLinAlgError\u001b[0m                               Traceback (most recent call last)",
      "Cell \u001b[0;32mIn[51], line 30\u001b[0m\n\u001b[1;32m     27\u001b[0m \u001b[38;5;66;03m#lamda = 1e-3 * 0 + 1 # Interesting.The smaller number works, but diverges. This is better\u001b[39;00m\n\u001b[1;32m     28\u001b[0m rms_epsilon \u001b[38;5;241m=\u001b[39m \u001b[38;5;241m0.002\u001b[39m\n\u001b[1;32m     29\u001b[0m iterations, solve_sat, elements_coe, sigma, sigmas, dxs, bs, lamdas, b_epoch, b_new_epoch, b, P, A \u001b[38;5;241m=\u001b[39m \\\n\u001b[0;32m---> 30\u001b[0m \u001b[43mtest_tle_fit_normalized_equinoctial\u001b[49m\u001b[43m(\u001b[49m\u001b[43mt\u001b[49m\u001b[43m,\u001b[49m\u001b[43m \u001b[49m\u001b[43mephemeris\u001b[49m\u001b[43m,\u001b[49m\u001b[43m \u001b[49m\u001b[43mcentral_diff\u001b[49m\u001b[38;5;241;43m=\u001b[39;49m\u001b[38;5;28;43;01mTrue\u001b[39;49;00m\u001b[43m,\u001b[49m\u001b[43m \u001b[49m\u001b[43mlast_obs\u001b[49m\u001b[38;5;241;43m=\u001b[39;49m\u001b[43mlast_obs\u001b[49m\u001b[43m,\u001b[49m\u001b[43m \u001b[49m\u001b[43mobs_stride\u001b[49m\u001b[38;5;241;43m=\u001b[39;49m\u001b[43mobs_stride\u001b[49m\u001b[43m,\u001b[49m\u001b[43m \u001b[49m\u001b[43mepoch_obs\u001b[49m\u001b[38;5;241;43m=\u001b[39;49m\u001b[43mepoch_obs\u001b[49m\u001b[43m,\u001b[49m\u001b[43m \u001b[49m\u001b[43mlamda\u001b[49m\u001b[38;5;241;43m=\u001b[39;49m\u001b[43mlamda\u001b[49m\u001b[43m,\u001b[49m\u001b[43m \u001b[49m\u001b[43mrms_epsilon\u001b[49m\u001b[38;5;241;43m=\u001b[39;49m\u001b[43mrms_epsilon\u001b[49m\u001b[43m,\u001b[49m\u001b[43m \u001b[49m\u001b[43mdebug\u001b[49m\u001b[38;5;241;43m=\u001b[39;49m\u001b[38;5;28;43;01mFalse\u001b[39;49;00m\u001b[43m)\u001b[49m\n\u001b[1;32m     32\u001b[0m \u001b[38;5;66;03m# Optionally thin the observations\u001b[39;00m\n\u001b[1;32m     33\u001b[0m tt \u001b[38;5;241m=\u001b[39m t[::obs_stride]\n",
      "File \u001b[0;32m~/Desktop/space_ops/src/functions.py:503\u001b[0m, in \u001b[0;36mtest_tle_fit_normalized_equinoctial\u001b[0;34m(t, ephemeris, central_diff, last_obs, obs_stride, epoch_obs, max_iter, lamda, bstar, rms_epsilon, percent_chg, delta_amt_chg, debug, hermitian, dx_limit, coe_limit, lm_reg)\u001b[0m\n\u001b[1;32m    501\u001b[0m         P \u001b[38;5;241m=\u001b[39m np\u001b[38;5;241m.\u001b[39mlinalg\u001b[38;5;241m.\u001b[39mpinv(ATWA_acc \u001b[38;5;241m+\u001b[39m lamda \u001b[38;5;241m*\u001b[39m ATWA_acc, hermitian\u001b[38;5;241m=\u001b[39mhermitian)\n\u001b[1;32m    502\u001b[0m     \u001b[38;5;28;01melse\u001b[39;00m:\n\u001b[0;32m--> 503\u001b[0m         P \u001b[38;5;241m=\u001b[39m \u001b[43mnp\u001b[49m\u001b[38;5;241;43m.\u001b[39;49m\u001b[43mlinalg\u001b[49m\u001b[38;5;241;43m.\u001b[39;49m\u001b[43mpinv\u001b[49m\u001b[43m(\u001b[49m\n\u001b[1;32m    504\u001b[0m \u001b[43m            \u001b[49m\u001b[43mATWA_acc\u001b[49m\u001b[43m \u001b[49m\u001b[38;5;241;43m+\u001b[39;49m\u001b[43m \u001b[49m\u001b[43mlamda\u001b[49m\u001b[43m \u001b[49m\u001b[38;5;241;43m*\u001b[39;49m\u001b[43m \u001b[49m\u001b[43mnp\u001b[49m\u001b[38;5;241;43m.\u001b[39;49m\u001b[43meye\u001b[49m\u001b[43m(\u001b[49m\u001b[38;5;241;43m7\u001b[39;49m\u001b[43m)\u001b[49m\u001b[43m,\u001b[49m\u001b[43m \u001b[49m\u001b[43mhermitian\u001b[49m\u001b[38;5;241;43m=\u001b[39;49m\u001b[43mhermitian\u001b[49m\n\u001b[1;32m    505\u001b[0m \u001b[43m        \u001b[49m\u001b[43m)\u001b[49m\n\u001b[1;32m    507\u001b[0m \u001b[38;5;28;01melse\u001b[39;00m:\n\u001b[1;32m    508\u001b[0m     P \u001b[38;5;241m=\u001b[39m np\u001b[38;5;241m.\u001b[39mlinalg\u001b[38;5;241m.\u001b[39mpinv(ATWA_acc, hermitian\u001b[38;5;241m=\u001b[39mhermitian)\n",
      "File \u001b[0;32m~/.local/lib/python3.10/site-packages/numpy/linalg/linalg.py:2022\u001b[0m, in \u001b[0;36mpinv\u001b[0;34m(a, rcond, hermitian)\u001b[0m\n\u001b[1;32m   2020\u001b[0m     \u001b[38;5;28;01mreturn\u001b[39;00m wrap(res)\n\u001b[1;32m   2021\u001b[0m a \u001b[38;5;241m=\u001b[39m a\u001b[38;5;241m.\u001b[39mconjugate()\n\u001b[0;32m-> 2022\u001b[0m u, s, vt \u001b[38;5;241m=\u001b[39m \u001b[43msvd\u001b[49m\u001b[43m(\u001b[49m\u001b[43ma\u001b[49m\u001b[43m,\u001b[49m\u001b[43m \u001b[49m\u001b[43mfull_matrices\u001b[49m\u001b[38;5;241;43m=\u001b[39;49m\u001b[38;5;28;43;01mFalse\u001b[39;49;00m\u001b[43m,\u001b[49m\u001b[43m \u001b[49m\u001b[43mhermitian\u001b[49m\u001b[38;5;241;43m=\u001b[39;49m\u001b[43mhermitian\u001b[49m\u001b[43m)\u001b[49m\n\u001b[1;32m   2024\u001b[0m \u001b[38;5;66;03m# discard small singular values\u001b[39;00m\n\u001b[1;32m   2025\u001b[0m cutoff \u001b[38;5;241m=\u001b[39m rcond[\u001b[38;5;241m.\u001b[39m\u001b[38;5;241m.\u001b[39m\u001b[38;5;241m.\u001b[39m, newaxis] \u001b[38;5;241m*\u001b[39m amax(s, axis\u001b[38;5;241m=\u001b[39m\u001b[38;5;241m-\u001b[39m\u001b[38;5;241m1\u001b[39m, keepdims\u001b[38;5;241m=\u001b[39m\u001b[38;5;28;01mTrue\u001b[39;00m)\n",
      "File \u001b[0;32m~/.local/lib/python3.10/site-packages/numpy/linalg/linalg.py:1647\u001b[0m, in \u001b[0;36msvd\u001b[0;34m(a, full_matrices, compute_uv, hermitian)\u001b[0m\n\u001b[1;32m   1642\u001b[0m \u001b[38;5;28;01mif\u001b[39;00m hermitian:\n\u001b[1;32m   1643\u001b[0m     \u001b[38;5;66;03m# note: lapack svd returns eigenvalues with s ** 2 sorted descending,\u001b[39;00m\n\u001b[1;32m   1644\u001b[0m     \u001b[38;5;66;03m# but eig returns s sorted ascending, so we re-order the eigenvalues\u001b[39;00m\n\u001b[1;32m   1645\u001b[0m     \u001b[38;5;66;03m# and related arrays to have the correct order\u001b[39;00m\n\u001b[1;32m   1646\u001b[0m     \u001b[38;5;28;01mif\u001b[39;00m compute_uv:\n\u001b[0;32m-> 1647\u001b[0m         s, u \u001b[38;5;241m=\u001b[39m \u001b[43meigh\u001b[49m\u001b[43m(\u001b[49m\u001b[43ma\u001b[49m\u001b[43m)\u001b[49m\n\u001b[1;32m   1648\u001b[0m         sgn \u001b[38;5;241m=\u001b[39m sign(s)\n\u001b[1;32m   1649\u001b[0m         s \u001b[38;5;241m=\u001b[39m \u001b[38;5;28mabs\u001b[39m(s)\n",
      "File \u001b[0;32m~/.local/lib/python3.10/site-packages/numpy/linalg/linalg.py:1487\u001b[0m, in \u001b[0;36meigh\u001b[0;34m(a, UPLO)\u001b[0m\n\u001b[1;32m   1484\u001b[0m     gufunc \u001b[38;5;241m=\u001b[39m _umath_linalg\u001b[38;5;241m.\u001b[39meigh_up\n\u001b[1;32m   1486\u001b[0m signature \u001b[38;5;241m=\u001b[39m \u001b[38;5;124m'\u001b[39m\u001b[38;5;124mD->dD\u001b[39m\u001b[38;5;124m'\u001b[39m \u001b[38;5;28;01mif\u001b[39;00m isComplexType(t) \u001b[38;5;28;01melse\u001b[39;00m \u001b[38;5;124m'\u001b[39m\u001b[38;5;124md->dd\u001b[39m\u001b[38;5;124m'\u001b[39m\n\u001b[0;32m-> 1487\u001b[0m w, vt \u001b[38;5;241m=\u001b[39m \u001b[43mgufunc\u001b[49m\u001b[43m(\u001b[49m\u001b[43ma\u001b[49m\u001b[43m,\u001b[49m\u001b[43m \u001b[49m\u001b[43msignature\u001b[49m\u001b[38;5;241;43m=\u001b[39;49m\u001b[43msignature\u001b[49m\u001b[43m,\u001b[49m\u001b[43m \u001b[49m\u001b[43mextobj\u001b[49m\u001b[38;5;241;43m=\u001b[39;49m\u001b[43mextobj\u001b[49m\u001b[43m)\u001b[49m\n\u001b[1;32m   1488\u001b[0m w \u001b[38;5;241m=\u001b[39m w\u001b[38;5;241m.\u001b[39mastype(_realType(result_t), copy\u001b[38;5;241m=\u001b[39m\u001b[38;5;28;01mFalse\u001b[39;00m)\n\u001b[1;32m   1489\u001b[0m vt \u001b[38;5;241m=\u001b[39m vt\u001b[38;5;241m.\u001b[39mastype(result_t, copy\u001b[38;5;241m=\u001b[39m\u001b[38;5;28;01mFalse\u001b[39;00m)\n",
      "File \u001b[0;32m~/.local/lib/python3.10/site-packages/numpy/linalg/linalg.py:118\u001b[0m, in \u001b[0;36m_raise_linalgerror_eigenvalues_nonconvergence\u001b[0;34m(err, flag)\u001b[0m\n\u001b[1;32m    117\u001b[0m \u001b[38;5;28;01mdef\u001b[39;00m \u001b[38;5;21m_raise_linalgerror_eigenvalues_nonconvergence\u001b[39m(err, flag):\n\u001b[0;32m--> 118\u001b[0m     \u001b[38;5;28;01mraise\u001b[39;00m LinAlgError(\u001b[38;5;124m\"\u001b[39m\u001b[38;5;124mEigenvalues did not converge\u001b[39m\u001b[38;5;124m\"\u001b[39m)\n",
      "\u001b[0;31mLinAlgError\u001b[0m: Eigenvalues did not converge"
     ]
    }
   ],
   "source": [
    "# fit ephemeris/gps to data\n",
    "\n",
    "# reference frames: https://ai-solutions.com/_help_Files/orbit_reference_frames.htm\n",
    "# Astropy convert transformations: https://docs.astropy.org/en/stable/coordinates/transforming.html\n",
    "# TEME reference frame in astropy: https://docs.astropy.org/en/stable/api/astropy.coordinates.TEME.html\n",
    "# needs to be rotated by the angle between mean vernal equinox at the current epoch and true vernal equinox at the current epoch\n",
    "\n",
    "# need to convert from TOD to TEME (Equinox)\n",
    "# https://beyond.readthedocs.io/en/latest/api/frames.html\n",
    "\n",
    "t = gps_data[\"Timestamp [UTC]\"]\n",
    "ephemeris = [((row[\"Position (TOD) X [km]\"], row[\"Position (TOD) Y [km]\"], row[\"Position (TOD) Z [km]\"]), (row[\"Velocity (TOD) X [m/s]\"], row[\"Velocity (TOD) Y [m/s]\"], row[\"Velocity (TOD) Z [m/s]\"])) for idx, row in gps_data.iterrows()]\n",
    "\n",
    "ephemeris_teme = ITRF2TEME(t, ephemeris)\n",
    "ephemeris = ephemeris_teme\n",
    "\n",
    "with warnings.catch_warnings():\n",
    "    warnings.simplefilter(\"ignore\")\n",
    "    t = np.array([_t.to_pydatetime() for _t in t])\n",
    "\n",
    "# Run the fitter\n",
    "last_obs = 4320\n",
    "obs_stride = 1\n",
    "epoch_obs = 0\n",
    "lamda = 1e-3 * 0 + 1 # Interesting.The smaller number works, but diverges. This is better\n",
    "rms_epsilon = 0.002\n",
    "iterations, solve_sat, elements_coe, sigma, sigmas, dxs, bs, lamdas, b_epoch, b_new_epoch, b, P, A = \\\n",
    "test_tle_fit_normalized_equinoctial(t, ephemeris, central_diff=True, last_obs=last_obs, obs_stride=obs_stride, epoch_obs=epoch_obs, lamda=lamda, rms_epsilon=rms_epsilon, debug=False)\n",
    "\n",
    "# Optionally thin the observations\n",
    "tt = t[::obs_stride]\n",
    "tephemeris = ephemeris[::obs_stride]\n",
    "\n",
    "if last_obs:\n",
    "    tt = tt[:last_obs]\n",
    "    tephemeris = tephemeris[:last_obs]\n",
    "\n",
    "\n",
    "tle = '\\n'.join(exporter.export_tle(solve_sat.model))\n",
    "print(tle)\n"
   ]
  }
 ],
 "metadata": {
  "kernelspec": {
   "display_name": "Python 3",
   "language": "python",
   "name": "python3"
  },
  "language_info": {
   "codemirror_mode": {
    "name": "ipython",
    "version": 3
   },
   "file_extension": ".py",
   "mimetype": "text/x-python",
   "name": "python",
   "nbconvert_exporter": "python",
   "pygments_lexer": "ipython3",
   "version": "3.9.7"
  }
 },
 "nbformat": 4,
 "nbformat_minor": 2
}
